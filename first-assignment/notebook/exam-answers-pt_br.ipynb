{
 "cells": [
  {
   "cell_type": "markdown",
   "source": [
    "# PROVA INTELIGÊNCIA ARTIFICIAL\n",
    "\n",
    "## 1 - (1 Ponto) Para cada um dos agentes a seguir, desenvolva uma descrição completando a tabela abaixo sobre o ambiente de tarefas de cada um.\n",
    "\n",
    "(a) Agente comentarista de jogo.\n",
    "\n",
    "(b) Agente sugestor de vinho.\n",
    "\n",
    "(c) Agente treinador de time (como de basquete).\n",
    "\n",
    "\n",
    "| Agente | Medida de desempenho                                 | Ambiente                             | Atuadores            | Sensores                             |\n",
    "|--------|------------------------------------------------------|--------------------------------------|----------------------|--------------------------------------|\n",
    "| (a)    | Tornar evidente as estratégias que estão acontecendo | Partida que está sendo realizada     | Emitir som de fala   | Imagens da partida                   |\n",
    "| (b)    | Satisfação dos clientes do estabelecimento           | Estabelecimento onde se vende vinhos | Sugerir uma seleção de vinhos | Lista de vinhos disponiveis no local |\n",
    "| (c)    | Vitória do time                                      | Partida do esporte em questão        | Instrução de táticas | Imagens da partida                   |\n",
    "\n",
    "## 2 - (2 Pontos) Diferencie os 4 tipos de aprendizado de máquina. Para tanto, escolha uma base de dados do Kaggle e explique como aplicar os 4 métodos nessa mesma base.\n",
    "\n",
    "A base escolhida foi '*spotify-music-analysis*' onde, através da API do Spotify, foram retiradas algumas informações sobre uma lista de músicas. Para mais informações sobre o significado dos atributos da base, entre em [AudioFeaturesObject](https://developer.spotify.com/documentation/web-api/reference/#/operations/get-several-audio-features).\n",
    "\n",
    "### Aprendizagem Supervisionada\n",
    "O objetivo do algoritmo de aprendizagem supervisionada é estabelecer um classificador que identifique as classes através de exemplos dados. Ou seja, dado um conjunto de exemplos que determina a classe rótulo, quando dado um novo conjunto de exemplos, o algoritmo deve ser capaz de classificar de acordo com as classes dos dados de treinamento.\n",
    "Neste contexto da base 'spotify-music-analysis', pode se estabelecer como classe rótulo 'mode' onde se refere a dado aquele tom (*key*) possui um configuração de escala menor(0) ou maior(1).\n",
    "Caso os atributos sejam discretos, deve se usar o modelo preditivo classificação. Neste caso é mais apropriado o método preditivo regressão por conta dos atributos selecionados.\n",
    "\n",
    "#### Exemplo de aplicação do modelo Regressão\n"
   ],
   "metadata": {
    "collapsed": false,
    "pycharm": {
     "name": "#%% md\n"
    }
   }
  },
  {
   "cell_type": "code",
   "execution_count": 573,
   "outputs": [
    {
     "data": {
      "text/plain": "   acousticness  danceability  duration_ms  energy  instrumentalness  key  \\\n0        0.0102         0.833       204600   0.434          0.021900    2   \n1        0.1990         0.743       326933   0.359          0.006110    1   \n2        0.0344         0.838       185707   0.412          0.000234    2   \n3        0.6040         0.494       199413   0.338          0.510000    5   \n4        0.1800         0.678       392893   0.561          0.512000    5   \n\n   liveness  loudness  mode  speechiness    tempo  time_signature  valence  \\\n0    0.1650    -8.795     1       0.4310  150.062             4.0    0.286   \n1    0.1370   -10.401     1       0.0794  160.083             4.0    0.588   \n2    0.1590    -7.148     1       0.2890   75.044             4.0    0.173   \n3    0.0922   -15.236     1       0.0261   86.468             4.0    0.230   \n4    0.4390   -11.648     0       0.0694  174.004             4.0    0.904   \n\n   target      song_title            artist  \n0       1        Mask Off            Future  \n1       1         Redbone  Childish Gambino  \n2       1    Xanny Family            Future  \n3       1  Master Of None       Beach House  \n4       1  Parallel Lines       Junior Boys  ",
      "text/html": "<div>\n<style scoped>\n    .dataframe tbody tr th:only-of-type {\n        vertical-align: middle;\n    }\n\n    .dataframe tbody tr th {\n        vertical-align: top;\n    }\n\n    .dataframe thead th {\n        text-align: right;\n    }\n</style>\n<table border=\"1\" class=\"dataframe\">\n  <thead>\n    <tr style=\"text-align: right;\">\n      <th></th>\n      <th>acousticness</th>\n      <th>danceability</th>\n      <th>duration_ms</th>\n      <th>energy</th>\n      <th>instrumentalness</th>\n      <th>key</th>\n      <th>liveness</th>\n      <th>loudness</th>\n      <th>mode</th>\n      <th>speechiness</th>\n      <th>tempo</th>\n      <th>time_signature</th>\n      <th>valence</th>\n      <th>target</th>\n      <th>song_title</th>\n      <th>artist</th>\n    </tr>\n  </thead>\n  <tbody>\n    <tr>\n      <th>0</th>\n      <td>0.0102</td>\n      <td>0.833</td>\n      <td>204600</td>\n      <td>0.434</td>\n      <td>0.021900</td>\n      <td>2</td>\n      <td>0.1650</td>\n      <td>-8.795</td>\n      <td>1</td>\n      <td>0.4310</td>\n      <td>150.062</td>\n      <td>4.0</td>\n      <td>0.286</td>\n      <td>1</td>\n      <td>Mask Off</td>\n      <td>Future</td>\n    </tr>\n    <tr>\n      <th>1</th>\n      <td>0.1990</td>\n      <td>0.743</td>\n      <td>326933</td>\n      <td>0.359</td>\n      <td>0.006110</td>\n      <td>1</td>\n      <td>0.1370</td>\n      <td>-10.401</td>\n      <td>1</td>\n      <td>0.0794</td>\n      <td>160.083</td>\n      <td>4.0</td>\n      <td>0.588</td>\n      <td>1</td>\n      <td>Redbone</td>\n      <td>Childish Gambino</td>\n    </tr>\n    <tr>\n      <th>2</th>\n      <td>0.0344</td>\n      <td>0.838</td>\n      <td>185707</td>\n      <td>0.412</td>\n      <td>0.000234</td>\n      <td>2</td>\n      <td>0.1590</td>\n      <td>-7.148</td>\n      <td>1</td>\n      <td>0.2890</td>\n      <td>75.044</td>\n      <td>4.0</td>\n      <td>0.173</td>\n      <td>1</td>\n      <td>Xanny Family</td>\n      <td>Future</td>\n    </tr>\n    <tr>\n      <th>3</th>\n      <td>0.6040</td>\n      <td>0.494</td>\n      <td>199413</td>\n      <td>0.338</td>\n      <td>0.510000</td>\n      <td>5</td>\n      <td>0.0922</td>\n      <td>-15.236</td>\n      <td>1</td>\n      <td>0.0261</td>\n      <td>86.468</td>\n      <td>4.0</td>\n      <td>0.230</td>\n      <td>1</td>\n      <td>Master Of None</td>\n      <td>Beach House</td>\n    </tr>\n    <tr>\n      <th>4</th>\n      <td>0.1800</td>\n      <td>0.678</td>\n      <td>392893</td>\n      <td>0.561</td>\n      <td>0.512000</td>\n      <td>5</td>\n      <td>0.4390</td>\n      <td>-11.648</td>\n      <td>0</td>\n      <td>0.0694</td>\n      <td>174.004</td>\n      <td>4.0</td>\n      <td>0.904</td>\n      <td>1</td>\n      <td>Parallel Lines</td>\n      <td>Junior Boys</td>\n    </tr>\n  </tbody>\n</table>\n</div>"
     },
     "execution_count": 573,
     "metadata": {},
     "output_type": "execute_result"
    }
   ],
   "source": [
    "import pandas as pd # data processing, CSV file I/O (e.g. pd.read_csv)\n",
    "import warnings\n",
    "warnings.simplefilter(action='ignore', category=FutureWarning)\n",
    "\n",
    "data_frame = pd.read_csv(\"../db/data.csv\")\n",
    "data_frame = data_frame.drop(\"Unnamed: 0\", axis=\"columns\")\n",
    "\n",
    "#data_frame.drop(data_frame.columns.difference(['key','mode','valence']), 1, inplace=True)\n",
    "data_frame.head(5)"
   ],
   "metadata": {
    "collapsed": false,
    "pycharm": {
     "name": "#%%\n"
    }
   }
  },
  {
   "cell_type": "markdown",
   "source": [
    "Plotaremos um diagrama:"
   ],
   "metadata": {
    "collapsed": false,
    "pycharm": {
     "name": "#%% md\n"
    }
   }
  },
  {
   "cell_type": "code",
   "execution_count": 574,
   "outputs": [
    {
     "data": {
      "application/vnd.plotly.v1+json": {
       "data": [
        {
         "hovertemplate": "valence=%{x}<br>mode=%{y}<extra></extra>",
         "legendgroup": "",
         "marker": {
          "color": "#636efa",
          "symbol": "circle",
          "line": {
           "width": 2
          },
          "size": 12
         },
         "mode": "markers",
         "name": "",
         "orientation": "v",
         "showlegend": false,
         "x": [
          0.875,
          0.494,
          0.792,
          0.191,
          0.448,
          0.0968,
          0.936,
          0.428,
          0.315,
          0.42,
          0.726,
          0.745,
          0.584,
          0.113,
          0.294,
          0.853,
          0.566,
          0.17,
          0.438,
          0.507,
          0.179,
          0.492,
          0.482,
          0.501,
          0.462,
          0.731,
          0.246,
          0.769,
          0.342,
          0.479,
          0.734,
          0.564,
          0.413,
          0.655,
          0.766,
          0.825,
          0.961,
          0.237,
          0.901,
          0.731,
          0.134,
          0.0591,
          0.958,
          0.854,
          0.52,
          0.547,
          0.499,
          0.579,
          0.652,
          0.0744,
          0.973,
          0.205,
          0.428,
          0.826,
          0.356,
          0.669,
          0.382,
          0.876,
          0.897,
          0.197,
          0.626,
          0.742,
          0.383,
          0.354,
          0.331,
          0.607,
          0.488,
          0.865,
          0.336,
          0.675,
          0.231,
          0.72,
          0.732,
          0.281,
          0.401,
          0.223,
          0.193,
          0.153,
          0.458,
          0.459,
          0.123,
          0.463,
          0.57,
          0.797,
          0.52,
          0.322,
          0.961,
          0.149,
          0.972,
          0.307,
          0.513,
          0.938,
          0.395,
          0.288,
          0.266,
          0.761,
          0.752,
          0.144,
          0.308,
          0.312,
          0.353,
          0.555,
          0.675,
          0.49,
          0.16,
          0.551,
          0.82,
          0.658,
          0.191,
          0.566,
          0.138,
          0.561,
          0.767,
          0.132,
          0.521,
          0.289,
          0.35,
          0.867,
          0.698,
          0.354,
          0.334,
          0.245,
          0.393,
          0.962,
          0.272,
          0.688,
          0.695,
          0.757,
          0.204,
          0.0795,
          0.259,
          0.71,
          0.645,
          0.322,
          0.865,
          0.758,
          0.493,
          0.93,
          0.486,
          0.851,
          0.171,
          0.233,
          0.529,
          0.86,
          0.0891,
          0.301,
          0.752,
          0.407,
          0.643,
          0.293,
          0.691,
          0.963,
          0.925,
          0.776,
          0.174,
          0.367,
          0.45,
          0.331,
          0.268,
          0.772,
          0.492,
          0.266,
          0.294,
          0.853,
          0.423,
          0.497,
          0.496,
          0.598,
          0.709,
          0.531,
          0.707,
          0.138,
          0.401,
          0.524,
          0.483,
          0.581,
          0.585,
          0.524,
          0.243,
          0.533,
          0.82,
          0.929,
          0.102,
          0.762,
          0.616,
          0.289,
          0.781,
          0.205,
          0.361,
          0.851,
          0.207,
          0.364,
          0.0348,
          0.328,
          0.653,
          0.0373,
          0.771,
          0.405,
          0.56,
          0.915,
          0.556,
          0.627,
          0.821,
          0.577,
          0.373,
          0.808,
          0.766,
          0.867,
          0.497,
          0.902,
          0.898,
          0.595,
          0.722,
          0.689,
          0.318,
          0.715,
          0.869,
          0.456,
          0.503,
          0.452,
          0.808,
          0.493,
          0.495,
          0.209,
          0.295,
          0.818,
          0.894,
          0.462,
          0.448,
          0.381,
          0.372,
          0.57,
          0.555,
          0.124,
          0.767,
          0.309,
          0.539,
          0.687,
          0.331,
          0.947,
          0.341,
          0.144,
          0.273,
          0.292,
          0.662,
          0.181,
          0.137,
          0.67,
          0.697,
          0.381,
          0.0533,
          0.273,
          0.744,
          0.13,
          0.441,
          0.277,
          0.93,
          0.767,
          0.589,
          0.289,
          0.615,
          0.615,
          0.294,
          0.682,
          0.14,
          0.372,
          0.967,
          0.0857,
          0.442,
          0.524,
          0.884,
          0.346,
          0.374,
          0.758,
          0.404,
          0.152,
          0.574,
          0.396,
          0.725,
          0.69,
          0.676,
          0.506,
          0.681,
          0.531,
          0.821,
          0.459,
          0.296,
          0.774,
          0.374,
          0.431,
          0.625,
          0.671,
          0.435,
          0.932,
          0.137,
          0.262,
          0.964,
          0.205,
          0.967,
          0.218,
          0.39,
          0.642,
          0.596,
          0.885,
          0.825,
          0.159,
          0.191,
          0.615,
          0.511,
          0.185,
          0.586,
          0.403,
          0.342,
          0.465,
          0.638,
          0.855,
          0.698,
          0.96,
          0.4,
          0.261,
          0.616,
          0.552,
          0.243,
          0.962,
          0.144,
          0.45,
          0.369,
          0.692,
          0.246,
          0.234,
          0.535,
          0.706,
          0.466,
          0.331,
          0.387,
          0.568,
          0.78,
          0.069,
          0.482,
          0.738,
          0.618,
          0.603,
          0.411,
          0.766,
          0.824,
          0.855,
          0.549,
          0.771,
          0.974,
          0.352,
          0.391,
          0.292,
          0.286,
          0.13,
          0.19,
          0.617,
          0.489,
          0.357,
          0.314,
          0.865,
          0.255,
          0.114,
          0.842,
          0.295,
          0.559,
          0.0827,
          0.713,
          0.592,
          0.519,
          0.389,
          0.271,
          0.499,
          0.397,
          0.111,
          0.438,
          0.557,
          0.0635,
          0.16,
          0.225,
          0.176,
          0.825,
          0.0622,
          0.588,
          0.411,
          0.324,
          0.532,
          0.931,
          0.245,
          0.0906,
          0.8,
          0.426,
          0.408,
          0.366,
          0.679,
          0.564,
          0.284,
          0.187,
          0.161,
          0.48,
          0.776,
          0.0778,
          0.646,
          0.53,
          0.442,
          0.852,
          0.577,
          0.601,
          0.299,
          0.332,
          0.486,
          0.68,
          0.347,
          0.712,
          0.648,
          0.645,
          0.615,
          0.0855,
          0.49,
          0.117,
          0.679,
          0.863,
          0.47,
          0.291,
          0.521,
          0.313,
          0.87,
          0.955,
          0.239,
          0.857,
          0.411,
          0.495,
          0.376,
          0.753,
          0.132,
          0.189,
          0.314,
          0.516,
          0.575,
          0.733,
          0.131,
          0.899,
          0.162,
          0.66,
          0.402,
          0.644,
          0.212,
          0.835,
          0.614,
          0.667,
          0.504,
          0.332,
          0.441,
          0.181,
          0.717,
          0.856,
          0.375,
          0.56,
          0.667,
          0.948,
          0.582,
          0.19,
          0.919,
          0.392,
          0.734,
          0.555,
          0.474,
          0.701,
          0.399,
          0.771,
          0.142,
          0.517,
          0.226,
          0.27,
          0.852,
          0.64,
          0.478,
          0.436,
          0.222,
          0.413,
          0.547,
          0.551,
          0.36,
          0.214,
          0.298,
          0.22,
          0.47,
          0.815,
          0.656,
          0.646,
          0.596,
          0.628,
          0.648,
          0.441,
          0.919,
          0.0473,
          0.155,
          0.516,
          0.411,
          0.536,
          0.258
         ],
         "xaxis": "x",
         "y": [
          1,
          1,
          1,
          1,
          0,
          1,
          1,
          0,
          0,
          1,
          0,
          1,
          0,
          1,
          0,
          0,
          0,
          1,
          0,
          0,
          1,
          0,
          0,
          0,
          1,
          1,
          1,
          1,
          1,
          0,
          0,
          1,
          0,
          0,
          0,
          1,
          0,
          1,
          0,
          0,
          0,
          1,
          0,
          0,
          1,
          1,
          0,
          1,
          1,
          0,
          0,
          1,
          1,
          1,
          1,
          0,
          1,
          1,
          0,
          1,
          0,
          1,
          1,
          1,
          0,
          1,
          1,
          1,
          1,
          1,
          1,
          0,
          0,
          1,
          1,
          1,
          1,
          0,
          1,
          1,
          0,
          1,
          1,
          1,
          1,
          1,
          1,
          1,
          1,
          0,
          1,
          0,
          1,
          1,
          1,
          0,
          1,
          1,
          1,
          0,
          0,
          1,
          0,
          1,
          0,
          1,
          1,
          0,
          0,
          0,
          1,
          0,
          0,
          0,
          1,
          1,
          0,
          1,
          0,
          1,
          1,
          0,
          0,
          0,
          1,
          0,
          0,
          1,
          0,
          1,
          0,
          1,
          1,
          0,
          1,
          1,
          1,
          1,
          1,
          1,
          1,
          1,
          1,
          0,
          0,
          1,
          1,
          1,
          0,
          1,
          1,
          0,
          0,
          0,
          1,
          1,
          1,
          1,
          1,
          1,
          0,
          0,
          0,
          0,
          0,
          0,
          1,
          1,
          1,
          0,
          1,
          0,
          1,
          0,
          0,
          1,
          1,
          0,
          1,
          1,
          0,
          1,
          1,
          0,
          0,
          1,
          1,
          0,
          0,
          1,
          1,
          0,
          1,
          1,
          1,
          1,
          0,
          1,
          1,
          1,
          0,
          1,
          1,
          0,
          1,
          1,
          0,
          0,
          1,
          1,
          0,
          1,
          1,
          0,
          0,
          1,
          1,
          1,
          1,
          0,
          0,
          0,
          1,
          1,
          1,
          0,
          1,
          0,
          1,
          1,
          0,
          1,
          0,
          0,
          1,
          1,
          1,
          0,
          1,
          1,
          1,
          1,
          0,
          0,
          1,
          1,
          1,
          0,
          0,
          1,
          1,
          1,
          1,
          1,
          1,
          1,
          1,
          1,
          1,
          1,
          0,
          0,
          1,
          0,
          1,
          1,
          1,
          1,
          0,
          1,
          0,
          0,
          1,
          1,
          0,
          1,
          1,
          0,
          1,
          1,
          0,
          0,
          1,
          0,
          1,
          1,
          1,
          0,
          0,
          1,
          1,
          0,
          1,
          1,
          1,
          0,
          1,
          1,
          0,
          0,
          0,
          1,
          1,
          1,
          1,
          1,
          0,
          1,
          0,
          1,
          0,
          0,
          1,
          1,
          1,
          1,
          1,
          1,
          1,
          0,
          0,
          1,
          1,
          1,
          1,
          1,
          1,
          0,
          0,
          1,
          0,
          0,
          1,
          1,
          1,
          1,
          1,
          1,
          0,
          0,
          1,
          1,
          1,
          1,
          1,
          0,
          0,
          1,
          1,
          1,
          0,
          0,
          1,
          1,
          0,
          0,
          1,
          1,
          1,
          0,
          1,
          0,
          1,
          0,
          1,
          0,
          1,
          1,
          1,
          0,
          0,
          1,
          0,
          1,
          1,
          1,
          0,
          0,
          0,
          0,
          1,
          0,
          1,
          0,
          0,
          1,
          1,
          1,
          1,
          1,
          0,
          1,
          1,
          1,
          0,
          0,
          1,
          1,
          1,
          1,
          1,
          1,
          0,
          0,
          1,
          1,
          1,
          0,
          1,
          0,
          0,
          0,
          1,
          1,
          1,
          1,
          1,
          1,
          1,
          1,
          1,
          0,
          1,
          1,
          1,
          1,
          0,
          1,
          1,
          1,
          1,
          1,
          1,
          0,
          1,
          1,
          0,
          1,
          1,
          0,
          1,
          1,
          0,
          0,
          1,
          1,
          0,
          0,
          0,
          1,
          1,
          1,
          1,
          1,
          0,
          1,
          1,
          1,
          0,
          0,
          1,
          1,
          0,
          1,
          1,
          1,
          1,
          1,
          1,
          0,
          1,
          1,
          1,
          1,
          1,
          1,
          0,
          0,
          1,
          0,
          1,
          1,
          1,
          1,
          0,
          0,
          0,
          1,
          1,
          1,
          1,
          0,
          1,
          1,
          0,
          0,
          1,
          0,
          1,
          0
         ],
         "yaxis": "y",
         "type": "scatter"
        }
       ],
       "layout": {
        "template": {
         "data": {
          "bar": [
           {
            "error_x": {
             "color": "#f2f5fa"
            },
            "error_y": {
             "color": "#f2f5fa"
            },
            "marker": {
             "line": {
              "color": "rgb(17,17,17)",
              "width": 0.5
             },
             "pattern": {
              "fillmode": "overlay",
              "size": 10,
              "solidity": 0.2
             }
            },
            "type": "bar"
           }
          ],
          "barpolar": [
           {
            "marker": {
             "line": {
              "color": "rgb(17,17,17)",
              "width": 0.5
             },
             "pattern": {
              "fillmode": "overlay",
              "size": 10,
              "solidity": 0.2
             }
            },
            "type": "barpolar"
           }
          ],
          "carpet": [
           {
            "aaxis": {
             "endlinecolor": "#A2B1C6",
             "gridcolor": "#506784",
             "linecolor": "#506784",
             "minorgridcolor": "#506784",
             "startlinecolor": "#A2B1C6"
            },
            "baxis": {
             "endlinecolor": "#A2B1C6",
             "gridcolor": "#506784",
             "linecolor": "#506784",
             "minorgridcolor": "#506784",
             "startlinecolor": "#A2B1C6"
            },
            "type": "carpet"
           }
          ],
          "choropleth": [
           {
            "colorbar": {
             "outlinewidth": 0,
             "ticks": ""
            },
            "type": "choropleth"
           }
          ],
          "contour": [
           {
            "colorbar": {
             "outlinewidth": 0,
             "ticks": ""
            },
            "colorscale": [
             [
              0.0,
              "#0d0887"
             ],
             [
              0.1111111111111111,
              "#46039f"
             ],
             [
              0.2222222222222222,
              "#7201a8"
             ],
             [
              0.3333333333333333,
              "#9c179e"
             ],
             [
              0.4444444444444444,
              "#bd3786"
             ],
             [
              0.5555555555555556,
              "#d8576b"
             ],
             [
              0.6666666666666666,
              "#ed7953"
             ],
             [
              0.7777777777777778,
              "#fb9f3a"
             ],
             [
              0.8888888888888888,
              "#fdca26"
             ],
             [
              1.0,
              "#f0f921"
             ]
            ],
            "type": "contour"
           }
          ],
          "contourcarpet": [
           {
            "colorbar": {
             "outlinewidth": 0,
             "ticks": ""
            },
            "type": "contourcarpet"
           }
          ],
          "heatmap": [
           {
            "colorbar": {
             "outlinewidth": 0,
             "ticks": ""
            },
            "colorscale": [
             [
              0.0,
              "#0d0887"
             ],
             [
              0.1111111111111111,
              "#46039f"
             ],
             [
              0.2222222222222222,
              "#7201a8"
             ],
             [
              0.3333333333333333,
              "#9c179e"
             ],
             [
              0.4444444444444444,
              "#bd3786"
             ],
             [
              0.5555555555555556,
              "#d8576b"
             ],
             [
              0.6666666666666666,
              "#ed7953"
             ],
             [
              0.7777777777777778,
              "#fb9f3a"
             ],
             [
              0.8888888888888888,
              "#fdca26"
             ],
             [
              1.0,
              "#f0f921"
             ]
            ],
            "type": "heatmap"
           }
          ],
          "heatmapgl": [
           {
            "colorbar": {
             "outlinewidth": 0,
             "ticks": ""
            },
            "colorscale": [
             [
              0.0,
              "#0d0887"
             ],
             [
              0.1111111111111111,
              "#46039f"
             ],
             [
              0.2222222222222222,
              "#7201a8"
             ],
             [
              0.3333333333333333,
              "#9c179e"
             ],
             [
              0.4444444444444444,
              "#bd3786"
             ],
             [
              0.5555555555555556,
              "#d8576b"
             ],
             [
              0.6666666666666666,
              "#ed7953"
             ],
             [
              0.7777777777777778,
              "#fb9f3a"
             ],
             [
              0.8888888888888888,
              "#fdca26"
             ],
             [
              1.0,
              "#f0f921"
             ]
            ],
            "type": "heatmapgl"
           }
          ],
          "histogram": [
           {
            "marker": {
             "pattern": {
              "fillmode": "overlay",
              "size": 10,
              "solidity": 0.2
             }
            },
            "type": "histogram"
           }
          ],
          "histogram2d": [
           {
            "colorbar": {
             "outlinewidth": 0,
             "ticks": ""
            },
            "colorscale": [
             [
              0.0,
              "#0d0887"
             ],
             [
              0.1111111111111111,
              "#46039f"
             ],
             [
              0.2222222222222222,
              "#7201a8"
             ],
             [
              0.3333333333333333,
              "#9c179e"
             ],
             [
              0.4444444444444444,
              "#bd3786"
             ],
             [
              0.5555555555555556,
              "#d8576b"
             ],
             [
              0.6666666666666666,
              "#ed7953"
             ],
             [
              0.7777777777777778,
              "#fb9f3a"
             ],
             [
              0.8888888888888888,
              "#fdca26"
             ],
             [
              1.0,
              "#f0f921"
             ]
            ],
            "type": "histogram2d"
           }
          ],
          "histogram2dcontour": [
           {
            "colorbar": {
             "outlinewidth": 0,
             "ticks": ""
            },
            "colorscale": [
             [
              0.0,
              "#0d0887"
             ],
             [
              0.1111111111111111,
              "#46039f"
             ],
             [
              0.2222222222222222,
              "#7201a8"
             ],
             [
              0.3333333333333333,
              "#9c179e"
             ],
             [
              0.4444444444444444,
              "#bd3786"
             ],
             [
              0.5555555555555556,
              "#d8576b"
             ],
             [
              0.6666666666666666,
              "#ed7953"
             ],
             [
              0.7777777777777778,
              "#fb9f3a"
             ],
             [
              0.8888888888888888,
              "#fdca26"
             ],
             [
              1.0,
              "#f0f921"
             ]
            ],
            "type": "histogram2dcontour"
           }
          ],
          "mesh3d": [
           {
            "colorbar": {
             "outlinewidth": 0,
             "ticks": ""
            },
            "type": "mesh3d"
           }
          ],
          "parcoords": [
           {
            "line": {
             "colorbar": {
              "outlinewidth": 0,
              "ticks": ""
             }
            },
            "type": "parcoords"
           }
          ],
          "pie": [
           {
            "automargin": true,
            "type": "pie"
           }
          ],
          "scatter": [
           {
            "marker": {
             "line": {
              "color": "#283442"
             }
            },
            "type": "scatter"
           }
          ],
          "scatter3d": [
           {
            "line": {
             "colorbar": {
              "outlinewidth": 0,
              "ticks": ""
             }
            },
            "marker": {
             "colorbar": {
              "outlinewidth": 0,
              "ticks": ""
             }
            },
            "type": "scatter3d"
           }
          ],
          "scattercarpet": [
           {
            "marker": {
             "colorbar": {
              "outlinewidth": 0,
              "ticks": ""
             }
            },
            "type": "scattercarpet"
           }
          ],
          "scattergeo": [
           {
            "marker": {
             "colorbar": {
              "outlinewidth": 0,
              "ticks": ""
             }
            },
            "type": "scattergeo"
           }
          ],
          "scattergl": [
           {
            "marker": {
             "line": {
              "color": "#283442"
             }
            },
            "type": "scattergl"
           }
          ],
          "scattermapbox": [
           {
            "marker": {
             "colorbar": {
              "outlinewidth": 0,
              "ticks": ""
             }
            },
            "type": "scattermapbox"
           }
          ],
          "scatterpolar": [
           {
            "marker": {
             "colorbar": {
              "outlinewidth": 0,
              "ticks": ""
             }
            },
            "type": "scatterpolar"
           }
          ],
          "scatterpolargl": [
           {
            "marker": {
             "colorbar": {
              "outlinewidth": 0,
              "ticks": ""
             }
            },
            "type": "scatterpolargl"
           }
          ],
          "scatterternary": [
           {
            "marker": {
             "colorbar": {
              "outlinewidth": 0,
              "ticks": ""
             }
            },
            "type": "scatterternary"
           }
          ],
          "surface": [
           {
            "colorbar": {
             "outlinewidth": 0,
             "ticks": ""
            },
            "colorscale": [
             [
              0.0,
              "#0d0887"
             ],
             [
              0.1111111111111111,
              "#46039f"
             ],
             [
              0.2222222222222222,
              "#7201a8"
             ],
             [
              0.3333333333333333,
              "#9c179e"
             ],
             [
              0.4444444444444444,
              "#bd3786"
             ],
             [
              0.5555555555555556,
              "#d8576b"
             ],
             [
              0.6666666666666666,
              "#ed7953"
             ],
             [
              0.7777777777777778,
              "#fb9f3a"
             ],
             [
              0.8888888888888888,
              "#fdca26"
             ],
             [
              1.0,
              "#f0f921"
             ]
            ],
            "type": "surface"
           }
          ],
          "table": [
           {
            "cells": {
             "fill": {
              "color": "#506784"
             },
             "line": {
              "color": "rgb(17,17,17)"
             }
            },
            "header": {
             "fill": {
              "color": "#2a3f5f"
             },
             "line": {
              "color": "rgb(17,17,17)"
             }
            },
            "type": "table"
           }
          ]
         },
         "layout": {
          "annotationdefaults": {
           "arrowcolor": "#f2f5fa",
           "arrowhead": 0,
           "arrowwidth": 1
          },
          "autotypenumbers": "strict",
          "coloraxis": {
           "colorbar": {
            "outlinewidth": 0,
            "ticks": ""
           }
          },
          "colorscale": {
           "diverging": [
            [
             0,
             "#8e0152"
            ],
            [
             0.1,
             "#c51b7d"
            ],
            [
             0.2,
             "#de77ae"
            ],
            [
             0.3,
             "#f1b6da"
            ],
            [
             0.4,
             "#fde0ef"
            ],
            [
             0.5,
             "#f7f7f7"
            ],
            [
             0.6,
             "#e6f5d0"
            ],
            [
             0.7,
             "#b8e186"
            ],
            [
             0.8,
             "#7fbc41"
            ],
            [
             0.9,
             "#4d9221"
            ],
            [
             1,
             "#276419"
            ]
           ],
           "sequential": [
            [
             0.0,
             "#0d0887"
            ],
            [
             0.1111111111111111,
             "#46039f"
            ],
            [
             0.2222222222222222,
             "#7201a8"
            ],
            [
             0.3333333333333333,
             "#9c179e"
            ],
            [
             0.4444444444444444,
             "#bd3786"
            ],
            [
             0.5555555555555556,
             "#d8576b"
            ],
            [
             0.6666666666666666,
             "#ed7953"
            ],
            [
             0.7777777777777778,
             "#fb9f3a"
            ],
            [
             0.8888888888888888,
             "#fdca26"
            ],
            [
             1.0,
             "#f0f921"
            ]
           ],
           "sequentialminus": [
            [
             0.0,
             "#0d0887"
            ],
            [
             0.1111111111111111,
             "#46039f"
            ],
            [
             0.2222222222222222,
             "#7201a8"
            ],
            [
             0.3333333333333333,
             "#9c179e"
            ],
            [
             0.4444444444444444,
             "#bd3786"
            ],
            [
             0.5555555555555556,
             "#d8576b"
            ],
            [
             0.6666666666666666,
             "#ed7953"
            ],
            [
             0.7777777777777778,
             "#fb9f3a"
            ],
            [
             0.8888888888888888,
             "#fdca26"
            ],
            [
             1.0,
             "#f0f921"
            ]
           ]
          },
          "colorway": [
           "#636efa",
           "#EF553B",
           "#00cc96",
           "#ab63fa",
           "#FFA15A",
           "#19d3f3",
           "#FF6692",
           "#B6E880",
           "#FF97FF",
           "#FECB52"
          ],
          "font": {
           "color": "#f2f5fa"
          },
          "geo": {
           "bgcolor": "rgb(17,17,17)",
           "lakecolor": "rgb(17,17,17)",
           "landcolor": "rgb(17,17,17)",
           "showlakes": true,
           "showland": true,
           "subunitcolor": "#506784"
          },
          "hoverlabel": {
           "align": "left"
          },
          "hovermode": "closest",
          "mapbox": {
           "style": "dark"
          },
          "paper_bgcolor": "rgb(17,17,17)",
          "plot_bgcolor": "rgb(17,17,17)",
          "polar": {
           "angularaxis": {
            "gridcolor": "#506784",
            "linecolor": "#506784",
            "ticks": ""
           },
           "bgcolor": "rgb(17,17,17)",
           "radialaxis": {
            "gridcolor": "#506784",
            "linecolor": "#506784",
            "ticks": ""
           }
          },
          "scene": {
           "xaxis": {
            "backgroundcolor": "rgb(17,17,17)",
            "gridcolor": "#506784",
            "gridwidth": 2,
            "linecolor": "#506784",
            "showbackground": true,
            "ticks": "",
            "zerolinecolor": "#C8D4E3"
           },
           "yaxis": {
            "backgroundcolor": "rgb(17,17,17)",
            "gridcolor": "#506784",
            "gridwidth": 2,
            "linecolor": "#506784",
            "showbackground": true,
            "ticks": "",
            "zerolinecolor": "#C8D4E3"
           },
           "zaxis": {
            "backgroundcolor": "rgb(17,17,17)",
            "gridcolor": "#506784",
            "gridwidth": 2,
            "linecolor": "#506784",
            "showbackground": true,
            "ticks": "",
            "zerolinecolor": "#C8D4E3"
           }
          },
          "shapedefaults": {
           "line": {
            "color": "#f2f5fa"
           }
          },
          "sliderdefaults": {
           "bgcolor": "#C8D4E3",
           "bordercolor": "rgb(17,17,17)",
           "borderwidth": 1,
           "tickwidth": 0
          },
          "ternary": {
           "aaxis": {
            "gridcolor": "#506784",
            "linecolor": "#506784",
            "ticks": ""
           },
           "baxis": {
            "gridcolor": "#506784",
            "linecolor": "#506784",
            "ticks": ""
           },
           "bgcolor": "rgb(17,17,17)",
           "caxis": {
            "gridcolor": "#506784",
            "linecolor": "#506784",
            "ticks": ""
           }
          },
          "title": {
           "x": 0.05
          },
          "updatemenudefaults": {
           "bgcolor": "#506784",
           "borderwidth": 0
          },
          "xaxis": {
           "automargin": true,
           "gridcolor": "#283442",
           "linecolor": "#506784",
           "ticks": "",
           "title": {
            "standoff": 15
           },
           "zerolinecolor": "#283442",
           "zerolinewidth": 2
          },
          "yaxis": {
           "automargin": true,
           "gridcolor": "#283442",
           "linecolor": "#506784",
           "ticks": "",
           "title": {
            "standoff": 15
           },
           "zerolinecolor": "#283442",
           "zerolinewidth": 2
          }
         }
        },
        "xaxis": {
         "anchor": "y",
         "domain": [
          0.0,
          1.0
         ],
         "title": {
          "text": "Valence"
         },
         "type": "log"
        },
        "yaxis": {
         "anchor": "x",
         "domain": [
          0.0,
          1.0
         ],
         "title": {
          "text": "Mode"
         }
        },
        "legend": {
         "tracegroupgap": 0
        },
        "margin": {
         "t": 60
        },
        "width": 800,
        "title": {
         "text": "Diagram valence x mode"
        }
       },
       "config": {
        "plotlyServerURL": "https://plot.ly"
       }
      },
      "text/html": "<div>                            <div id=\"3efe479a-e5d0-4c6e-9ea8-1734cbb0eabe\" class=\"plotly-graph-div\" style=\"height:525px; width:800px;\"></div>            <script type=\"text/javascript\">                require([\"plotly\"], function(Plotly) {                    window.PLOTLYENV=window.PLOTLYENV || {};                                    if (document.getElementById(\"3efe479a-e5d0-4c6e-9ea8-1734cbb0eabe\")) {                    Plotly.newPlot(                        \"3efe479a-e5d0-4c6e-9ea8-1734cbb0eabe\",                        [{\"hovertemplate\":\"valence=%{x}<br>mode=%{y}<extra></extra>\",\"legendgroup\":\"\",\"marker\":{\"color\":\"#636efa\",\"symbol\":\"circle\",\"line\":{\"width\":2},\"size\":12},\"mode\":\"markers\",\"name\":\"\",\"orientation\":\"v\",\"showlegend\":false,\"x\":[0.875,0.494,0.792,0.191,0.448,0.0968,0.936,0.428,0.315,0.42,0.726,0.745,0.584,0.113,0.294,0.853,0.566,0.17,0.438,0.507,0.179,0.492,0.482,0.501,0.462,0.731,0.246,0.769,0.342,0.479,0.734,0.564,0.413,0.655,0.766,0.825,0.961,0.237,0.901,0.731,0.134,0.0591,0.958,0.854,0.52,0.547,0.499,0.579,0.652,0.0744,0.973,0.205,0.428,0.826,0.356,0.669,0.382,0.876,0.897,0.197,0.626,0.742,0.383,0.354,0.331,0.607,0.488,0.865,0.336,0.675,0.231,0.72,0.732,0.281,0.401,0.223,0.193,0.153,0.458,0.459,0.123,0.463,0.57,0.797,0.52,0.322,0.961,0.149,0.972,0.307,0.513,0.938,0.395,0.288,0.266,0.761,0.752,0.144,0.308,0.312,0.353,0.555,0.675,0.49,0.16,0.551,0.82,0.658,0.191,0.566,0.138,0.561,0.767,0.132,0.521,0.289,0.35,0.867,0.698,0.354,0.334,0.245,0.393,0.962,0.272,0.688,0.695,0.757,0.204,0.0795,0.259,0.71,0.645,0.322,0.865,0.758,0.493,0.93,0.486,0.851,0.171,0.233,0.529,0.86,0.0891,0.301,0.752,0.407,0.643,0.293,0.691,0.963,0.925,0.776,0.174,0.367,0.45,0.331,0.268,0.772,0.492,0.266,0.294,0.853,0.423,0.497,0.496,0.598,0.709,0.531,0.707,0.138,0.401,0.524,0.483,0.581,0.585,0.524,0.243,0.533,0.82,0.929,0.102,0.762,0.616,0.289,0.781,0.205,0.361,0.851,0.207,0.364,0.0348,0.328,0.653,0.0373,0.771,0.405,0.56,0.915,0.556,0.627,0.821,0.577,0.373,0.808,0.766,0.867,0.497,0.902,0.898,0.595,0.722,0.689,0.318,0.715,0.869,0.456,0.503,0.452,0.808,0.493,0.495,0.209,0.295,0.818,0.894,0.462,0.448,0.381,0.372,0.57,0.555,0.124,0.767,0.309,0.539,0.687,0.331,0.947,0.341,0.144,0.273,0.292,0.662,0.181,0.137,0.67,0.697,0.381,0.0533,0.273,0.744,0.13,0.441,0.277,0.93,0.767,0.589,0.289,0.615,0.615,0.294,0.682,0.14,0.372,0.967,0.0857,0.442,0.524,0.884,0.346,0.374,0.758,0.404,0.152,0.574,0.396,0.725,0.69,0.676,0.506,0.681,0.531,0.821,0.459,0.296,0.774,0.374,0.431,0.625,0.671,0.435,0.932,0.137,0.262,0.964,0.205,0.967,0.218,0.39,0.642,0.596,0.885,0.825,0.159,0.191,0.615,0.511,0.185,0.586,0.403,0.342,0.465,0.638,0.855,0.698,0.96,0.4,0.261,0.616,0.552,0.243,0.962,0.144,0.45,0.369,0.692,0.246,0.234,0.535,0.706,0.466,0.331,0.387,0.568,0.78,0.069,0.482,0.738,0.618,0.603,0.411,0.766,0.824,0.855,0.549,0.771,0.974,0.352,0.391,0.292,0.286,0.13,0.19,0.617,0.489,0.357,0.314,0.865,0.255,0.114,0.842,0.295,0.559,0.0827,0.713,0.592,0.519,0.389,0.271,0.499,0.397,0.111,0.438,0.557,0.0635,0.16,0.225,0.176,0.825,0.0622,0.588,0.411,0.324,0.532,0.931,0.245,0.0906,0.8,0.426,0.408,0.366,0.679,0.564,0.284,0.187,0.161,0.48,0.776,0.0778,0.646,0.53,0.442,0.852,0.577,0.601,0.299,0.332,0.486,0.68,0.347,0.712,0.648,0.645,0.615,0.0855,0.49,0.117,0.679,0.863,0.47,0.291,0.521,0.313,0.87,0.955,0.239,0.857,0.411,0.495,0.376,0.753,0.132,0.189,0.314,0.516,0.575,0.733,0.131,0.899,0.162,0.66,0.402,0.644,0.212,0.835,0.614,0.667,0.504,0.332,0.441,0.181,0.717,0.856,0.375,0.56,0.667,0.948,0.582,0.19,0.919,0.392,0.734,0.555,0.474,0.701,0.399,0.771,0.142,0.517,0.226,0.27,0.852,0.64,0.478,0.436,0.222,0.413,0.547,0.551,0.36,0.214,0.298,0.22,0.47,0.815,0.656,0.646,0.596,0.628,0.648,0.441,0.919,0.0473,0.155,0.516,0.411,0.536,0.258],\"xaxis\":\"x\",\"y\":[1,1,1,1,0,1,1,0,0,1,0,1,0,1,0,0,0,1,0,0,1,0,0,0,1,1,1,1,1,0,0,1,0,0,0,1,0,1,0,0,0,1,0,0,1,1,0,1,1,0,0,1,1,1,1,0,1,1,0,1,0,1,1,1,0,1,1,1,1,1,1,0,0,1,1,1,1,0,1,1,0,1,1,1,1,1,1,1,1,0,1,0,1,1,1,0,1,1,1,0,0,1,0,1,0,1,1,0,0,0,1,0,0,0,1,1,0,1,0,1,1,0,0,0,1,0,0,1,0,1,0,1,1,0,1,1,1,1,1,1,1,1,1,0,0,1,1,1,0,1,1,0,0,0,1,1,1,1,1,1,0,0,0,0,0,0,1,1,1,0,1,0,1,0,0,1,1,0,1,1,0,1,1,0,0,1,1,0,0,1,1,0,1,1,1,1,0,1,1,1,0,1,1,0,1,1,0,0,1,1,0,1,1,0,0,1,1,1,1,0,0,0,1,1,1,0,1,0,1,1,0,1,0,0,1,1,1,0,1,1,1,1,0,0,1,1,1,0,0,1,1,1,1,1,1,1,1,1,1,1,0,0,1,0,1,1,1,1,0,1,0,0,1,1,0,1,1,0,1,1,0,0,1,0,1,1,1,0,0,1,1,0,1,1,1,0,1,1,0,0,0,1,1,1,1,1,0,1,0,1,0,0,1,1,1,1,1,1,1,0,0,1,1,1,1,1,1,0,0,1,0,0,1,1,1,1,1,1,0,0,1,1,1,1,1,0,0,1,1,1,0,0,1,1,0,0,1,1,1,0,1,0,1,0,1,0,1,1,1,0,0,1,0,1,1,1,0,0,0,0,1,0,1,0,0,1,1,1,1,1,0,1,1,1,0,0,1,1,1,1,1,1,0,0,1,1,1,0,1,0,0,0,1,1,1,1,1,1,1,1,1,0,1,1,1,1,0,1,1,1,1,1,1,0,1,1,0,1,1,0,1,1,0,0,1,1,0,0,0,1,1,1,1,1,0,1,1,1,0,0,1,1,0,1,1,1,1,1,1,0,1,1,1,1,1,1,0,0,1,0,1,1,1,1,0,0,0,1,1,1,1,0,1,1,0,0,1,0,1,0],\"yaxis\":\"y\",\"type\":\"scatter\"}],                        {\"template\":{\"data\":{\"bar\":[{\"error_x\":{\"color\":\"#f2f5fa\"},\"error_y\":{\"color\":\"#f2f5fa\"},\"marker\":{\"line\":{\"color\":\"rgb(17,17,17)\",\"width\":0.5},\"pattern\":{\"fillmode\":\"overlay\",\"size\":10,\"solidity\":0.2}},\"type\":\"bar\"}],\"barpolar\":[{\"marker\":{\"line\":{\"color\":\"rgb(17,17,17)\",\"width\":0.5},\"pattern\":{\"fillmode\":\"overlay\",\"size\":10,\"solidity\":0.2}},\"type\":\"barpolar\"}],\"carpet\":[{\"aaxis\":{\"endlinecolor\":\"#A2B1C6\",\"gridcolor\":\"#506784\",\"linecolor\":\"#506784\",\"minorgridcolor\":\"#506784\",\"startlinecolor\":\"#A2B1C6\"},\"baxis\":{\"endlinecolor\":\"#A2B1C6\",\"gridcolor\":\"#506784\",\"linecolor\":\"#506784\",\"minorgridcolor\":\"#506784\",\"startlinecolor\":\"#A2B1C6\"},\"type\":\"carpet\"}],\"choropleth\":[{\"colorbar\":{\"outlinewidth\":0,\"ticks\":\"\"},\"type\":\"choropleth\"}],\"contour\":[{\"colorbar\":{\"outlinewidth\":0,\"ticks\":\"\"},\"colorscale\":[[0.0,\"#0d0887\"],[0.1111111111111111,\"#46039f\"],[0.2222222222222222,\"#7201a8\"],[0.3333333333333333,\"#9c179e\"],[0.4444444444444444,\"#bd3786\"],[0.5555555555555556,\"#d8576b\"],[0.6666666666666666,\"#ed7953\"],[0.7777777777777778,\"#fb9f3a\"],[0.8888888888888888,\"#fdca26\"],[1.0,\"#f0f921\"]],\"type\":\"contour\"}],\"contourcarpet\":[{\"colorbar\":{\"outlinewidth\":0,\"ticks\":\"\"},\"type\":\"contourcarpet\"}],\"heatmap\":[{\"colorbar\":{\"outlinewidth\":0,\"ticks\":\"\"},\"colorscale\":[[0.0,\"#0d0887\"],[0.1111111111111111,\"#46039f\"],[0.2222222222222222,\"#7201a8\"],[0.3333333333333333,\"#9c179e\"],[0.4444444444444444,\"#bd3786\"],[0.5555555555555556,\"#d8576b\"],[0.6666666666666666,\"#ed7953\"],[0.7777777777777778,\"#fb9f3a\"],[0.8888888888888888,\"#fdca26\"],[1.0,\"#f0f921\"]],\"type\":\"heatmap\"}],\"heatmapgl\":[{\"colorbar\":{\"outlinewidth\":0,\"ticks\":\"\"},\"colorscale\":[[0.0,\"#0d0887\"],[0.1111111111111111,\"#46039f\"],[0.2222222222222222,\"#7201a8\"],[0.3333333333333333,\"#9c179e\"],[0.4444444444444444,\"#bd3786\"],[0.5555555555555556,\"#d8576b\"],[0.6666666666666666,\"#ed7953\"],[0.7777777777777778,\"#fb9f3a\"],[0.8888888888888888,\"#fdca26\"],[1.0,\"#f0f921\"]],\"type\":\"heatmapgl\"}],\"histogram\":[{\"marker\":{\"pattern\":{\"fillmode\":\"overlay\",\"size\":10,\"solidity\":0.2}},\"type\":\"histogram\"}],\"histogram2d\":[{\"colorbar\":{\"outlinewidth\":0,\"ticks\":\"\"},\"colorscale\":[[0.0,\"#0d0887\"],[0.1111111111111111,\"#46039f\"],[0.2222222222222222,\"#7201a8\"],[0.3333333333333333,\"#9c179e\"],[0.4444444444444444,\"#bd3786\"],[0.5555555555555556,\"#d8576b\"],[0.6666666666666666,\"#ed7953\"],[0.7777777777777778,\"#fb9f3a\"],[0.8888888888888888,\"#fdca26\"],[1.0,\"#f0f921\"]],\"type\":\"histogram2d\"}],\"histogram2dcontour\":[{\"colorbar\":{\"outlinewidth\":0,\"ticks\":\"\"},\"colorscale\":[[0.0,\"#0d0887\"],[0.1111111111111111,\"#46039f\"],[0.2222222222222222,\"#7201a8\"],[0.3333333333333333,\"#9c179e\"],[0.4444444444444444,\"#bd3786\"],[0.5555555555555556,\"#d8576b\"],[0.6666666666666666,\"#ed7953\"],[0.7777777777777778,\"#fb9f3a\"],[0.8888888888888888,\"#fdca26\"],[1.0,\"#f0f921\"]],\"type\":\"histogram2dcontour\"}],\"mesh3d\":[{\"colorbar\":{\"outlinewidth\":0,\"ticks\":\"\"},\"type\":\"mesh3d\"}],\"parcoords\":[{\"line\":{\"colorbar\":{\"outlinewidth\":0,\"ticks\":\"\"}},\"type\":\"parcoords\"}],\"pie\":[{\"automargin\":true,\"type\":\"pie\"}],\"scatter\":[{\"marker\":{\"line\":{\"color\":\"#283442\"}},\"type\":\"scatter\"}],\"scatter3d\":[{\"line\":{\"colorbar\":{\"outlinewidth\":0,\"ticks\":\"\"}},\"marker\":{\"colorbar\":{\"outlinewidth\":0,\"ticks\":\"\"}},\"type\":\"scatter3d\"}],\"scattercarpet\":[{\"marker\":{\"colorbar\":{\"outlinewidth\":0,\"ticks\":\"\"}},\"type\":\"scattercarpet\"}],\"scattergeo\":[{\"marker\":{\"colorbar\":{\"outlinewidth\":0,\"ticks\":\"\"}},\"type\":\"scattergeo\"}],\"scattergl\":[{\"marker\":{\"line\":{\"color\":\"#283442\"}},\"type\":\"scattergl\"}],\"scattermapbox\":[{\"marker\":{\"colorbar\":{\"outlinewidth\":0,\"ticks\":\"\"}},\"type\":\"scattermapbox\"}],\"scatterpolar\":[{\"marker\":{\"colorbar\":{\"outlinewidth\":0,\"ticks\":\"\"}},\"type\":\"scatterpolar\"}],\"scatterpolargl\":[{\"marker\":{\"colorbar\":{\"outlinewidth\":0,\"ticks\":\"\"}},\"type\":\"scatterpolargl\"}],\"scatterternary\":[{\"marker\":{\"colorbar\":{\"outlinewidth\":0,\"ticks\":\"\"}},\"type\":\"scatterternary\"}],\"surface\":[{\"colorbar\":{\"outlinewidth\":0,\"ticks\":\"\"},\"colorscale\":[[0.0,\"#0d0887\"],[0.1111111111111111,\"#46039f\"],[0.2222222222222222,\"#7201a8\"],[0.3333333333333333,\"#9c179e\"],[0.4444444444444444,\"#bd3786\"],[0.5555555555555556,\"#d8576b\"],[0.6666666666666666,\"#ed7953\"],[0.7777777777777778,\"#fb9f3a\"],[0.8888888888888888,\"#fdca26\"],[1.0,\"#f0f921\"]],\"type\":\"surface\"}],\"table\":[{\"cells\":{\"fill\":{\"color\":\"#506784\"},\"line\":{\"color\":\"rgb(17,17,17)\"}},\"header\":{\"fill\":{\"color\":\"#2a3f5f\"},\"line\":{\"color\":\"rgb(17,17,17)\"}},\"type\":\"table\"}]},\"layout\":{\"annotationdefaults\":{\"arrowcolor\":\"#f2f5fa\",\"arrowhead\":0,\"arrowwidth\":1},\"autotypenumbers\":\"strict\",\"coloraxis\":{\"colorbar\":{\"outlinewidth\":0,\"ticks\":\"\"}},\"colorscale\":{\"diverging\":[[0,\"#8e0152\"],[0.1,\"#c51b7d\"],[0.2,\"#de77ae\"],[0.3,\"#f1b6da\"],[0.4,\"#fde0ef\"],[0.5,\"#f7f7f7\"],[0.6,\"#e6f5d0\"],[0.7,\"#b8e186\"],[0.8,\"#7fbc41\"],[0.9,\"#4d9221\"],[1,\"#276419\"]],\"sequential\":[[0.0,\"#0d0887\"],[0.1111111111111111,\"#46039f\"],[0.2222222222222222,\"#7201a8\"],[0.3333333333333333,\"#9c179e\"],[0.4444444444444444,\"#bd3786\"],[0.5555555555555556,\"#d8576b\"],[0.6666666666666666,\"#ed7953\"],[0.7777777777777778,\"#fb9f3a\"],[0.8888888888888888,\"#fdca26\"],[1.0,\"#f0f921\"]],\"sequentialminus\":[[0.0,\"#0d0887\"],[0.1111111111111111,\"#46039f\"],[0.2222222222222222,\"#7201a8\"],[0.3333333333333333,\"#9c179e\"],[0.4444444444444444,\"#bd3786\"],[0.5555555555555556,\"#d8576b\"],[0.6666666666666666,\"#ed7953\"],[0.7777777777777778,\"#fb9f3a\"],[0.8888888888888888,\"#fdca26\"],[1.0,\"#f0f921\"]]},\"colorway\":[\"#636efa\",\"#EF553B\",\"#00cc96\",\"#ab63fa\",\"#FFA15A\",\"#19d3f3\",\"#FF6692\",\"#B6E880\",\"#FF97FF\",\"#FECB52\"],\"font\":{\"color\":\"#f2f5fa\"},\"geo\":{\"bgcolor\":\"rgb(17,17,17)\",\"lakecolor\":\"rgb(17,17,17)\",\"landcolor\":\"rgb(17,17,17)\",\"showlakes\":true,\"showland\":true,\"subunitcolor\":\"#506784\"},\"hoverlabel\":{\"align\":\"left\"},\"hovermode\":\"closest\",\"mapbox\":{\"style\":\"dark\"},\"paper_bgcolor\":\"rgb(17,17,17)\",\"plot_bgcolor\":\"rgb(17,17,17)\",\"polar\":{\"angularaxis\":{\"gridcolor\":\"#506784\",\"linecolor\":\"#506784\",\"ticks\":\"\"},\"bgcolor\":\"rgb(17,17,17)\",\"radialaxis\":{\"gridcolor\":\"#506784\",\"linecolor\":\"#506784\",\"ticks\":\"\"}},\"scene\":{\"xaxis\":{\"backgroundcolor\":\"rgb(17,17,17)\",\"gridcolor\":\"#506784\",\"gridwidth\":2,\"linecolor\":\"#506784\",\"showbackground\":true,\"ticks\":\"\",\"zerolinecolor\":\"#C8D4E3\"},\"yaxis\":{\"backgroundcolor\":\"rgb(17,17,17)\",\"gridcolor\":\"#506784\",\"gridwidth\":2,\"linecolor\":\"#506784\",\"showbackground\":true,\"ticks\":\"\",\"zerolinecolor\":\"#C8D4E3\"},\"zaxis\":{\"backgroundcolor\":\"rgb(17,17,17)\",\"gridcolor\":\"#506784\",\"gridwidth\":2,\"linecolor\":\"#506784\",\"showbackground\":true,\"ticks\":\"\",\"zerolinecolor\":\"#C8D4E3\"}},\"shapedefaults\":{\"line\":{\"color\":\"#f2f5fa\"}},\"sliderdefaults\":{\"bgcolor\":\"#C8D4E3\",\"bordercolor\":\"rgb(17,17,17)\",\"borderwidth\":1,\"tickwidth\":0},\"ternary\":{\"aaxis\":{\"gridcolor\":\"#506784\",\"linecolor\":\"#506784\",\"ticks\":\"\"},\"baxis\":{\"gridcolor\":\"#506784\",\"linecolor\":\"#506784\",\"ticks\":\"\"},\"bgcolor\":\"rgb(17,17,17)\",\"caxis\":{\"gridcolor\":\"#506784\",\"linecolor\":\"#506784\",\"ticks\":\"\"}},\"title\":{\"x\":0.05},\"updatemenudefaults\":{\"bgcolor\":\"#506784\",\"borderwidth\":0},\"xaxis\":{\"automargin\":true,\"gridcolor\":\"#283442\",\"linecolor\":\"#506784\",\"ticks\":\"\",\"title\":{\"standoff\":15},\"zerolinecolor\":\"#283442\",\"zerolinewidth\":2},\"yaxis\":{\"automargin\":true,\"gridcolor\":\"#283442\",\"linecolor\":\"#506784\",\"ticks\":\"\",\"title\":{\"standoff\":15},\"zerolinecolor\":\"#283442\",\"zerolinewidth\":2}}},\"xaxis\":{\"anchor\":\"y\",\"domain\":[0.0,1.0],\"title\":{\"text\":\"Valence\"},\"type\":\"log\"},\"yaxis\":{\"anchor\":\"x\",\"domain\":[0.0,1.0],\"title\":{\"text\":\"Mode\"}},\"legend\":{\"tracegroupgap\":0},\"margin\":{\"t\":60},\"width\":800,\"title\":{\"text\":\"Diagram valence x mode\"}},                        {\"responsive\": true}                    ).then(function(){\n                            \nvar gd = document.getElementById('3efe479a-e5d0-4c6e-9ea8-1734cbb0eabe');\nvar x = new MutationObserver(function (mutations, observer) {{\n        var display = window.getComputedStyle(gd).display;\n        if (!display || display === 'none') {{\n            console.log([gd, 'removed!']);\n            Plotly.purge(gd);\n            observer.disconnect();\n        }}\n}});\n\n// Listen for the removal of the full notebook cells\nvar notebookContainer = gd.closest('#notebook-container');\nif (notebookContainer) {{\n    x.observe(notebookContainer, {childList: true});\n}}\n\n// Listen for the clearing of the current output cell\nvar outputEl = gd.closest('.output');\nif (outputEl) {{\n    x.observe(outputEl, {childList: true});\n}}\n\n                        })                };                });            </script>        </div>"
     },
     "metadata": {},
     "output_type": "display_data"
    }
   ],
   "source": [
    "import plotly.express as px\n",
    "\n",
    "df_sample = data_frame.sample(n=500)\n",
    "\n",
    "mkey = []\n",
    "\n",
    "for i in df_sample.index:\n",
    "    if df_sample['mode'][i] == 1:\n",
    "        mkey.append(df_sample['key'][i] + 0.5)\n",
    "    else:\n",
    "        mkey.append(df_sample['key'][i])\n",
    "\n",
    "\n",
    "df_scatter = pd.DataFrame({\n",
    "    'mkey' : mkey,\n",
    "    'valence' : df_sample.get('valence')\n",
    "})\n",
    "\n",
    "\n",
    "fig  = px.scatter(df_sample, x = 'valence',y = 'mode', log_x = True, width = 800)\n",
    "fig.update_traces(marker = dict(size = 12, line=dict(width = 2)), selector = dict(mode = 'markers'))\n",
    "fig.update_layout(title = 'Diagram valence x mode')\n",
    "fig.update_xaxes(title = 'Valence')\n",
    "fig.update_yaxes(title = 'Mode')\n",
    "fig.show()"
   ],
   "metadata": {
    "collapsed": false,
    "pycharm": {
     "name": "#%%\n"
    }
   }
  },
  {
   "cell_type": "markdown",
   "source": [
    "O diagrama nos permite classificar essa amostragem, dada a escala, se aquela música vai ser mais alegre ou mais triste"
   ],
   "metadata": {
    "collapsed": false,
    "pycharm": {
     "name": "#%% md\n"
    }
   }
  },
  {
   "cell_type": "markdown",
   "source": [
    "### Aprendizagem Não Supervisionada\n",
    "\n",
    "Neste tipo de aprendizagem, o indutor analisa os exemplos fornecidos e tentar classificar através de agrupamento.\n",
    "Ainda na base *spotify-music-analysis*, um exemplo desse tipo de aprendizagem pode ser dado pelo atributo *danceability* onde descreve o qual recomendada é uma música para dançar. Isso é feito pelo agrupamento de elementos musicais como \"*tempo, rhythm stability, beat strength, and overall regularity.*\""
   ],
   "metadata": {
    "collapsed": false,
    "pycharm": {
     "name": "#%% md\n"
    }
   }
  },
  {
   "cell_type": "markdown",
   "source": [
    "### Aprendizagem Semi-Supervisionada\n",
    "É a abordagem de *machine learning* que combina uma pequena amostra de dados classificados com uma grande quantidade de dados não classificados durante o treinamento.\n",
    "Com referência nessa base de dados *spotify-music-analysis*, poderiamos através da API disponibilizada pelo Spotify, gerar uma quantidade maior de dados para se treinar o agente inteligente para fins de se classificar quais músicas são dançantes ou não."
   ],
   "metadata": {
    "collapsed": false,
    "pycharm": {
     "name": "#%% md\n"
    }
   }
  },
  {
   "cell_type": "markdown",
   "source": [
    "### Aprendizagem por Reforço\n",
    "\n",
    "É uma abordagem na qual o agente inteligente realiza ações na base da \"tentativa e erro\" a fim de se possibilitar a tomada de ação com uma taxa de sucesso cada vez maior. Para isso, a cada ação correta o agente recebe uma recompensa. Caso contrário, é penalizado.\n",
    "No contexto de dados de músicas retiradas do Spotify, poderiamos treinar um agente para classificar dinamicamente o quão dançantes são as músicas que estão sendo reproduzidas no player."
   ],
   "metadata": {
    "collapsed": false,
    "pycharm": {
     "name": "#%% md\n"
    }
   }
  },
  {
   "cell_type": "markdown",
   "source": [
    "## 3 - (5 Pontos) Em um Jupyter Notebook (link do collab, GitHub ou arquivo), utilize o método K vizinhos mais próximos na base escolhida na questão anterior para um contexto SUPERVISIONADO e para classificação:\n",
    "\n",
    "### 1. Aplique processos de pré-processamento e os necessários para execução do método K-NN.\n",
    "\n",
    "Para a base utilizada na questão anterior, será realizada o pré-processamento de :\n",
    "* Eliminação de atributos"
   ],
   "metadata": {
    "collapsed": false,
    "pycharm": {
     "name": "#%% md\n"
    }
   }
  },
  {
   "cell_type": "code",
   "execution_count": 575,
   "outputs": [
    {
     "data": {
      "text/plain": "      acousticness  danceability  energy  instrumentalness  liveness  \\\n0          0.01020         0.833   0.434          0.021900    0.1650   \n1          0.19900         0.743   0.359          0.006110    0.1370   \n2          0.03440         0.838   0.412          0.000234    0.1590   \n3          0.60400         0.494   0.338          0.510000    0.0922   \n4          0.18000         0.678   0.561          0.512000    0.4390   \n...            ...           ...     ...               ...       ...   \n2012       0.00106         0.584   0.932          0.002690    0.1290   \n2013       0.08770         0.894   0.892          0.001670    0.0528   \n2014       0.00857         0.637   0.935          0.003990    0.2140   \n2015       0.00164         0.557   0.992          0.677000    0.0913   \n2016       0.00281         0.446   0.915          0.000039    0.2180   \n\n      loudness  valence  \n0       -8.795    0.286  \n1      -10.401    0.588  \n2       -7.148    0.173  \n3      -15.236    0.230  \n4      -11.648    0.904  \n...        ...      ...  \n2012    -3.501    0.211  \n2013    -2.663    0.867  \n2014    -2.467    0.470  \n2015    -2.735    0.623  \n2016    -6.221    0.402  \n\n[2017 rows x 7 columns]",
      "text/html": "<div>\n<style scoped>\n    .dataframe tbody tr th:only-of-type {\n        vertical-align: middle;\n    }\n\n    .dataframe tbody tr th {\n        vertical-align: top;\n    }\n\n    .dataframe thead th {\n        text-align: right;\n    }\n</style>\n<table border=\"1\" class=\"dataframe\">\n  <thead>\n    <tr style=\"text-align: right;\">\n      <th></th>\n      <th>acousticness</th>\n      <th>danceability</th>\n      <th>energy</th>\n      <th>instrumentalness</th>\n      <th>liveness</th>\n      <th>loudness</th>\n      <th>valence</th>\n    </tr>\n  </thead>\n  <tbody>\n    <tr>\n      <th>0</th>\n      <td>0.01020</td>\n      <td>0.833</td>\n      <td>0.434</td>\n      <td>0.021900</td>\n      <td>0.1650</td>\n      <td>-8.795</td>\n      <td>0.286</td>\n    </tr>\n    <tr>\n      <th>1</th>\n      <td>0.19900</td>\n      <td>0.743</td>\n      <td>0.359</td>\n      <td>0.006110</td>\n      <td>0.1370</td>\n      <td>-10.401</td>\n      <td>0.588</td>\n    </tr>\n    <tr>\n      <th>2</th>\n      <td>0.03440</td>\n      <td>0.838</td>\n      <td>0.412</td>\n      <td>0.000234</td>\n      <td>0.1590</td>\n      <td>-7.148</td>\n      <td>0.173</td>\n    </tr>\n    <tr>\n      <th>3</th>\n      <td>0.60400</td>\n      <td>0.494</td>\n      <td>0.338</td>\n      <td>0.510000</td>\n      <td>0.0922</td>\n      <td>-15.236</td>\n      <td>0.230</td>\n    </tr>\n    <tr>\n      <th>4</th>\n      <td>0.18000</td>\n      <td>0.678</td>\n      <td>0.561</td>\n      <td>0.512000</td>\n      <td>0.4390</td>\n      <td>-11.648</td>\n      <td>0.904</td>\n    </tr>\n    <tr>\n      <th>...</th>\n      <td>...</td>\n      <td>...</td>\n      <td>...</td>\n      <td>...</td>\n      <td>...</td>\n      <td>...</td>\n      <td>...</td>\n    </tr>\n    <tr>\n      <th>2012</th>\n      <td>0.00106</td>\n      <td>0.584</td>\n      <td>0.932</td>\n      <td>0.002690</td>\n      <td>0.1290</td>\n      <td>-3.501</td>\n      <td>0.211</td>\n    </tr>\n    <tr>\n      <th>2013</th>\n      <td>0.08770</td>\n      <td>0.894</td>\n      <td>0.892</td>\n      <td>0.001670</td>\n      <td>0.0528</td>\n      <td>-2.663</td>\n      <td>0.867</td>\n    </tr>\n    <tr>\n      <th>2014</th>\n      <td>0.00857</td>\n      <td>0.637</td>\n      <td>0.935</td>\n      <td>0.003990</td>\n      <td>0.2140</td>\n      <td>-2.467</td>\n      <td>0.470</td>\n    </tr>\n    <tr>\n      <th>2015</th>\n      <td>0.00164</td>\n      <td>0.557</td>\n      <td>0.992</td>\n      <td>0.677000</td>\n      <td>0.0913</td>\n      <td>-2.735</td>\n      <td>0.623</td>\n    </tr>\n    <tr>\n      <th>2016</th>\n      <td>0.00281</td>\n      <td>0.446</td>\n      <td>0.915</td>\n      <td>0.000039</td>\n      <td>0.2180</td>\n      <td>-6.221</td>\n      <td>0.402</td>\n    </tr>\n  </tbody>\n</table>\n<p>2017 rows × 7 columns</p>\n</div>"
     },
     "execution_count": 575,
     "metadata": {},
     "output_type": "execute_result"
    }
   ],
   "source": [
    "data_frame.drop(columns=['song_title','artist', 'duration_ms', 'speechiness', 'tempo', 'time_signature', 'target', 'key', 'mode'])"
   ],
   "metadata": {
    "collapsed": false,
    "pycharm": {
     "name": "#%%\n"
    }
   }
  },
  {
   "cell_type": "markdown",
   "source": [
    "### 2. Aplique correlação ou PCA e seleciona um número menor de atributos com esses métodos e justifique sua decisão."
   ],
   "metadata": {
    "collapsed": false,
    "pycharm": {
     "name": "#%% md\n"
    }
   }
  },
  {
   "cell_type": "code",
   "execution_count": 576,
   "outputs": [
    {
     "data": {
      "text/plain": "<pandas.io.formats.style.Styler at 0x1fabccdef70>",
      "text/html": "<style type=\"text/css\">\n#T_1661e_row0_col0, #T_1661e_row1_col1, #T_1661e_row2_col2, #T_1661e_row3_col3, #T_1661e_row4_col4, #T_1661e_row5_col5, #T_1661e_row6_col6, #T_1661e_row7_col7, #T_1661e_row8_col8, #T_1661e_row9_col9, #T_1661e_row10_col10, #T_1661e_row11_col11, #T_1661e_row12_col12, #T_1661e_row13_col13 {\n  background-color: #b40426;\n  color: #f1f1f1;\n}\n#T_1661e_row0_col1, #T_1661e_row0_col3, #T_1661e_row0_col7, #T_1661e_row0_col11, #T_1661e_row0_col13, #T_1661e_row1_col6, #T_1661e_row1_col10, #T_1661e_row3_col0, #T_1661e_row4_col9, #T_1661e_row4_col12, #T_1661e_row5_col8, #T_1661e_row7_col2, #T_1661e_row7_col4, #T_1661e_row8_col5 {\n  background-color: #3b4cc0;\n  color: #f1f1f1;\n}\n#T_1661e_row0_col2, #T_1661e_row1_col13, #T_1661e_row3_col10, #T_1661e_row9_col1, #T_1661e_row12_col11 {\n  background-color: #94b6ff;\n  color: #000000;\n}\n#T_1661e_row0_col4 {\n  background-color: #b6cefa;\n  color: #000000;\n}\n#T_1661e_row0_col5 {\n  background-color: #5875e1;\n  color: #f1f1f1;\n}\n#T_1661e_row0_col6, #T_1661e_row0_col10 {\n  background-color: #3e51c5;\n  color: #f1f1f1;\n}\n#T_1661e_row0_col8 {\n  background-color: #82a6fb;\n  color: #f1f1f1;\n}\n#T_1661e_row0_col9, #T_1661e_row8_col13 {\n  background-color: #4961d2;\n  color: #f1f1f1;\n}\n#T_1661e_row0_col12 {\n  background-color: #455cce;\n  color: #f1f1f1;\n}\n#T_1661e_row1_col0 {\n  background-color: #98b9ff;\n  color: #000000;\n}\n#T_1661e_row1_col2, #T_1661e_row3_col9 {\n  background-color: #81a4fb;\n  color: #f1f1f1;\n}\n#T_1661e_row1_col3, #T_1661e_row9_col7, #T_1661e_row13_col3 {\n  background-color: #c5d6f2;\n  color: #000000;\n}\n#T_1661e_row1_col4 {\n  background-color: #6f92f3;\n  color: #f1f1f1;\n}\n#T_1661e_row1_col5, #T_1661e_row2_col5, #T_1661e_row5_col11, #T_1661e_row11_col2, #T_1661e_row12_col9 {\n  background-color: #7597f6;\n  color: #f1f1f1;\n}\n#T_1661e_row1_col7 {\n  background-color: #c9d7f0;\n  color: #000000;\n}\n#T_1661e_row1_col8, #T_1661e_row9_col8 {\n  background-color: #6180e9;\n  color: #f1f1f1;\n}\n#T_1661e_row1_col9 {\n  background-color: #90b2fe;\n  color: #000000;\n}\n#T_1661e_row1_col11, #T_1661e_row13_col9 {\n  background-color: #93b5fe;\n  color: #000000;\n}\n#T_1661e_row1_col12 {\n  background-color: #e5d8d1;\n  color: #000000;\n}\n#T_1661e_row2_col0, #T_1661e_row5_col3, #T_1661e_row8_col0 {\n  background-color: #cbd8ee;\n  color: #000000;\n}\n#T_1661e_row2_col1 {\n  background-color: #6c8ff1;\n  color: #f1f1f1;\n}\n#T_1661e_row2_col3 {\n  background-color: #a1c0ff;\n  color: #000000;\n}\n#T_1661e_row2_col4 {\n  background-color: #d9dce1;\n  color: #000000;\n}\n#T_1661e_row2_col6, #T_1661e_row4_col8, #T_1661e_row6_col13, #T_1661e_row13_col6 {\n  background-color: #6687ed;\n  color: #f1f1f1;\n}\n#T_1661e_row2_col7, #T_1661e_row3_col1, #T_1661e_row11_col5 {\n  background-color: #7699f6;\n  color: #f1f1f1;\n}\n#T_1661e_row2_col8, #T_1661e_row3_col2, #T_1661e_row4_col11, #T_1661e_row8_col6 {\n  background-color: #5977e3;\n  color: #f1f1f1;\n}\n#T_1661e_row2_col9 {\n  background-color: #4e68d8;\n  color: #f1f1f1;\n}\n#T_1661e_row2_col10, #T_1661e_row2_col12 {\n  background-color: #4c66d6;\n  color: #f1f1f1;\n}\n#T_1661e_row2_col11, #T_1661e_row4_col10, #T_1661e_row7_col8, #T_1661e_row8_col11, #T_1661e_row10_col6 {\n  background-color: #6282ea;\n  color: #f1f1f1;\n}\n#T_1661e_row2_col13 {\n  background-color: #8badfd;\n  color: #000000;\n}\n#T_1661e_row3_col4, #T_1661e_row5_col1 {\n  background-color: #7093f3;\n  color: #f1f1f1;\n}\n#T_1661e_row3_col5, #T_1661e_row9_col10 {\n  background-color: #84a7fc;\n  color: #f1f1f1;\n}\n#T_1661e_row3_col6 {\n  background-color: #a2c1ff;\n  color: #000000;\n}\n#T_1661e_row3_col7 {\n  background-color: #e36c55;\n  color: #f1f1f1;\n}\n#T_1661e_row3_col8, #T_1661e_row13_col8 {\n  background-color: #5a78e4;\n  color: #f1f1f1;\n}\n#T_1661e_row3_col11, #T_1661e_row10_col0, #T_1661e_row13_col0, #T_1661e_row13_col7 {\n  background-color: #a3c2fe;\n  color: #000000;\n}\n#T_1661e_row3_col12 {\n  background-color: #bfd3f6;\n  color: #000000;\n}\n#T_1661e_row3_col13, #T_1661e_row5_col9, #T_1661e_row10_col12, #T_1661e_row11_col13 {\n  background-color: #6a8bef;\n  color: #f1f1f1;\n}\n#T_1661e_row4_col0 {\n  background-color: #d7dce3;\n  color: #000000;\n}\n#T_1661e_row4_col1, #T_1661e_row6_col1 {\n  background-color: #465ecf;\n  color: #f1f1f1;\n}\n#T_1661e_row4_col2 {\n  background-color: #d1dae9;\n  color: #000000;\n}\n#T_1661e_row4_col3 {\n  background-color: #a5c3fe;\n  color: #000000;\n}\n#T_1661e_row4_col5, #T_1661e_row8_col2, #T_1661e_row9_col2, #T_1661e_row10_col2, #T_1661e_row13_col10 {\n  background-color: #6b8df0;\n  color: #f1f1f1;\n}\n#T_1661e_row4_col6, #T_1661e_row6_col12, #T_1661e_row12_col2, #T_1661e_row12_col4 {\n  background-color: #5f7fe8;\n  color: #f1f1f1;\n}\n#T_1661e_row4_col7, #T_1661e_row11_col6, #T_1661e_row11_col8 {\n  background-color: #6384eb;\n  color: #f1f1f1;\n}\n#T_1661e_row4_col13 {\n  background-color: #8caffe;\n  color: #000000;\n}\n#T_1661e_row5_col0 {\n  background-color: #adc9fd;\n  color: #000000;\n}\n#T_1661e_row5_col2, #T_1661e_row6_col2, #T_1661e_row10_col9, #T_1661e_row11_col9 {\n  background-color: #86a9fc;\n  color: #f1f1f1;\n}\n#T_1661e_row5_col4, #T_1661e_row7_col6, #T_1661e_row9_col11 {\n  background-color: #8fb1fe;\n  color: #000000;\n}\n#T_1661e_row5_col6, #T_1661e_row5_col10 {\n  background-color: #6e90f2;\n  color: #f1f1f1;\n}\n#T_1661e_row5_col7 {\n  background-color: #bed2f6;\n  color: #000000;\n}\n#T_1661e_row5_col12, #T_1661e_row12_col5, #T_1661e_row13_col5 {\n  background-color: #779af7;\n  color: #f1f1f1;\n}\n#T_1661e_row5_col13 {\n  background-color: #6788ee;\n  color: #f1f1f1;\n}\n#T_1661e_row6_col0 {\n  background-color: #a6c4fe;\n  color: #000000;\n}\n#T_1661e_row6_col3, #T_1661e_row12_col1 {\n  background-color: #e3d9d3;\n  color: #000000;\n}\n#T_1661e_row6_col4, #T_1661e_row7_col10, #T_1661e_row10_col4, #T_1661e_row11_col1 {\n  background-color: #92b4fe;\n  color: #000000;\n}\n#T_1661e_row6_col5, #T_1661e_row7_col5 {\n  background-color: #7da0f9;\n  color: #f1f1f1;\n}\n#T_1661e_row6_col7, #T_1661e_row10_col7 {\n  background-color: #d2dbe8;\n  color: #000000;\n}\n#T_1661e_row6_col8, #T_1661e_row9_col4, #T_1661e_row10_col13 {\n  background-color: #688aef;\n  color: #f1f1f1;\n}\n#T_1661e_row6_col9, #T_1661e_row7_col9 {\n  background-color: #80a3fa;\n  color: #f1f1f1;\n}\n#T_1661e_row6_col10, #T_1661e_row8_col12, #T_1661e_row12_col8 {\n  background-color: #6485ec;\n  color: #f1f1f1;\n}\n#T_1661e_row6_col11 {\n  background-color: #7295f4;\n  color: #f1f1f1;\n}\n#T_1661e_row7_col0, #T_1661e_row7_col13 {\n  background-color: #4a63d3;\n  color: #f1f1f1;\n}\n#T_1661e_row7_col1, #T_1661e_row8_col4 {\n  background-color: #89acfd;\n  color: #000000;\n}\n#T_1661e_row7_col3 {\n  background-color: #e26952;\n  color: #f1f1f1;\n}\n#T_1661e_row7_col11 {\n  background-color: #97b8ff;\n  color: #000000;\n}\n#T_1661e_row7_col12 {\n  background-color: #aac7fd;\n  color: #000000;\n}\n#T_1661e_row8_col1, #T_1661e_row10_col8, #T_1661e_row10_col11, #T_1661e_row12_col10 {\n  background-color: #5d7ce6;\n  color: #f1f1f1;\n}\n#T_1661e_row8_col3 {\n  background-color: #afcafc;\n  color: #000000;\n}\n#T_1661e_row8_col7, #T_1661e_row9_col0, #T_1661e_row13_col2 {\n  background-color: #a9c6fd;\n  color: #000000;\n}\n#T_1661e_row8_col9 {\n  background-color: #5673e0;\n  color: #f1f1f1;\n}\n#T_1661e_row8_col10 {\n  background-color: #506bda;\n  color: #f1f1f1;\n}\n#T_1661e_row9_col3 {\n  background-color: #cedaeb;\n  color: #000000;\n}\n#T_1661e_row9_col5 {\n  background-color: #7396f5;\n  color: #f1f1f1;\n}\n#T_1661e_row9_col6, #T_1661e_row10_col5 {\n  background-color: #7a9df8;\n  color: #f1f1f1;\n}\n#T_1661e_row9_col12, #T_1661e_row11_col4, #T_1661e_row12_col13 {\n  background-color: #7ea1fa;\n  color: #f1f1f1;\n}\n#T_1661e_row9_col13, #T_1661e_row13_col12 {\n  background-color: #8db0fe;\n  color: #000000;\n}\n#T_1661e_row10_col1 {\n  background-color: #4358cb;\n  color: #f1f1f1;\n}\n#T_1661e_row10_col3 {\n  background-color: #dbdcde;\n  color: #000000;\n}\n#T_1661e_row11_col0, #T_1661e_row11_col12 {\n  background-color: #96b7ff;\n  color: #000000;\n}\n#T_1661e_row11_col3 {\n  background-color: #dddcdc;\n  color: #000000;\n}\n#T_1661e_row11_col7 {\n  background-color: #cfdaea;\n  color: #000000;\n}\n#T_1661e_row11_col10 {\n  background-color: #516ddb;\n  color: #f1f1f1;\n}\n#T_1661e_row12_col0 {\n  background-color: #9ebeff;\n  color: #000000;\n}\n#T_1661e_row12_col3 {\n  background-color: #ebd3c6;\n  color: #000000;\n}\n#T_1661e_row12_col6 {\n  background-color: #4f69d9;\n  color: #f1f1f1;\n}\n#T_1661e_row12_col7 {\n  background-color: #dadce0;\n  color: #000000;\n}\n#T_1661e_row13_col1 {\n  background-color: #9fbfff;\n  color: #000000;\n}\n#T_1661e_row13_col4 {\n  background-color: #b7cff9;\n  color: #000000;\n}\n#T_1661e_row13_col11 {\n  background-color: #799cf8;\n  color: #f1f1f1;\n}\n</style>\n<table id=\"T_1661e_\">\n  <thead>\n    <tr>\n      <th class=\"blank level0\" >&nbsp;</th>\n      <th class=\"col_heading level0 col0\" >acousticness</th>\n      <th class=\"col_heading level0 col1\" >danceability</th>\n      <th class=\"col_heading level0 col2\" >duration_ms</th>\n      <th class=\"col_heading level0 col3\" >energy</th>\n      <th class=\"col_heading level0 col4\" >instrumentalness</th>\n      <th class=\"col_heading level0 col5\" >key</th>\n      <th class=\"col_heading level0 col6\" >liveness</th>\n      <th class=\"col_heading level0 col7\" >loudness</th>\n      <th class=\"col_heading level0 col8\" >mode</th>\n      <th class=\"col_heading level0 col9\" >speechiness</th>\n      <th class=\"col_heading level0 col10\" >tempo</th>\n      <th class=\"col_heading level0 col11\" >time_signature</th>\n      <th class=\"col_heading level0 col12\" >valence</th>\n      <th class=\"col_heading level0 col13\" >target</th>\n    </tr>\n  </thead>\n  <tbody>\n    <tr>\n      <th id=\"T_1661e_level0_row0\" class=\"row_heading level0 row0\" >acousticness</th>\n      <td id=\"T_1661e_row0_col0\" class=\"data row0 col0\" >1.000000</td>\n      <td id=\"T_1661e_row0_col1\" class=\"data row0 col1\" >-0.179894</td>\n      <td id=\"T_1661e_row0_col2\" class=\"data row0 col2\" >0.071536</td>\n      <td id=\"T_1661e_row0_col3\" class=\"data row0 col3\" >-0.646319</td>\n      <td id=\"T_1661e_row0_col4\" class=\"data row0 col4\" >0.144397</td>\n      <td id=\"T_1661e_row0_col5\" class=\"data row0 col5\" >-0.081037</td>\n      <td id=\"T_1661e_row0_col6\" class=\"data row0 col6\" >-0.117126</td>\n      <td id=\"T_1661e_row0_col7\" class=\"data row0 col7\" >-0.562021</td>\n      <td id=\"T_1661e_row0_col8\" class=\"data row0 col8\" >0.068028</td>\n      <td id=\"T_1661e_row0_col9\" class=\"data row0 col9\" >-0.099893</td>\n      <td id=\"T_1661e_row0_col10\" class=\"data row0 col10\" >-0.127596</td>\n      <td id=\"T_1661e_row0_col11\" class=\"data row0 col11\" >-0.190353</td>\n      <td id=\"T_1661e_row0_col12\" class=\"data row0 col12\" >-0.152227</td>\n      <td id=\"T_1661e_row0_col13\" class=\"data row0 col13\" >-0.129627</td>\n    </tr>\n    <tr>\n      <th id=\"T_1661e_level0_row1\" class=\"row_heading level0 row1\" >danceability</th>\n      <td id=\"T_1661e_row1_col0\" class=\"data row1 col0\" >-0.179894</td>\n      <td id=\"T_1661e_row1_col1\" class=\"data row1 col1\" >1.000000</td>\n      <td id=\"T_1661e_row1_col2\" class=\"data row1 col2\" >0.004695</td>\n      <td id=\"T_1661e_row1_col3\" class=\"data row1 col3\" >0.038557</td>\n      <td id=\"T_1661e_row1_col4\" class=\"data row1 col4\" >-0.130561</td>\n      <td id=\"T_1661e_row1_col5\" class=\"data row1 col5\" >0.022325</td>\n      <td id=\"T_1661e_row1_col6\" class=\"data row1 col6\" >-0.132044</td>\n      <td id=\"T_1661e_row1_col7\" class=\"data row1 col7\" >0.104362</td>\n      <td id=\"T_1661e_row1_col8\" class=\"data row1 col8\" >-0.047867</td>\n      <td id=\"T_1661e_row1_col9\" class=\"data row1 col9\" >0.142661</td>\n      <td id=\"T_1661e_row1_col10\" class=\"data row1 col10\" >-0.143538</td>\n      <td id=\"T_1661e_row1_col11\" class=\"data row1 col11\" >0.128909</td>\n      <td id=\"T_1661e_row1_col12\" class=\"data row1 col12\" >0.442061</td>\n      <td id=\"T_1661e_row1_col13\" class=\"data row1 col13\" >0.176706</td>\n    </tr>\n    <tr>\n      <th id=\"T_1661e_level0_row2\" class=\"row_heading level0 row2\" >duration_ms</th>\n      <td id=\"T_1661e_row2_col0\" class=\"data row2 col0\" >0.071536</td>\n      <td id=\"T_1661e_row2_col1\" class=\"data row2 col1\" >0.004695</td>\n      <td id=\"T_1661e_row2_col2\" class=\"data row2 col2\" >1.000000</td>\n      <td id=\"T_1661e_row2_col3\" class=\"data row2 col3\" >-0.144473</td>\n      <td id=\"T_1661e_row2_col4\" class=\"data row2 col4\" >0.305403</td>\n      <td id=\"T_1661e_row2_col5\" class=\"data row2 col5\" >0.023570</td>\n      <td id=\"T_1661e_row2_col6\" class=\"data row2 col6\" >0.023203</td>\n      <td id=\"T_1661e_row2_col7\" class=\"data row2 col7\" >-0.273798</td>\n      <td id=\"T_1661e_row2_col8\" class=\"data row2 col8\" >-0.074806</td>\n      <td id=\"T_1661e_row2_col9\" class=\"data row2 col9\" >-0.079562</td>\n      <td id=\"T_1661e_row2_col10\" class=\"data row2 col10\" >-0.076469</td>\n      <td id=\"T_1661e_row2_col11\" class=\"data row2 col11\" >-0.040157</td>\n      <td id=\"T_1661e_row2_col12\" class=\"data row2 col12\" >-0.120030</td>\n      <td id=\"T_1661e_row2_col13\" class=\"data row2 col13\" >0.146749</td>\n    </tr>\n    <tr>\n      <th id=\"T_1661e_level0_row3\" class=\"row_heading level0 row3\" >energy</th>\n      <td id=\"T_1661e_row3_col0\" class=\"data row3 col0\" >-0.646319</td>\n      <td id=\"T_1661e_row3_col1\" class=\"data row3 col1\" >0.038557</td>\n      <td id=\"T_1661e_row3_col2\" class=\"data row3 col2\" >-0.144473</td>\n      <td id=\"T_1661e_row3_col3\" class=\"data row3 col3\" >1.000000</td>\n      <td id=\"T_1661e_row3_col4\" class=\"data row3 col4\" >-0.122890</td>\n      <td id=\"T_1661e_row3_col5\" class=\"data row3 col5\" >0.072886</td>\n      <td id=\"T_1661e_row3_col6\" class=\"data row3 col6\" >0.217435</td>\n      <td id=\"T_1661e_row3_col7\" class=\"data row3 col7\" >0.762177</td>\n      <td id=\"T_1661e_row3_col8\" class=\"data row3 col8\" >-0.070263</td>\n      <td id=\"T_1661e_row3_col9\" class=\"data row3 col9\" >0.093102</td>\n      <td id=\"T_1661e_row3_col10\" class=\"data row3 col10\" >0.165721</td>\n      <td id=\"T_1661e_row3_col11\" class=\"data row3 col11\" >0.182895</td>\n      <td id=\"T_1661e_row3_col12\" class=\"data row3 col12\" >0.278383</td>\n      <td id=\"T_1661e_row3_col13\" class=\"data row3 col13\" >0.039688</td>\n    </tr>\n    <tr>\n      <th id=\"T_1661e_level0_row4\" class=\"row_heading level0 row4\" >instrumentalness</th>\n      <td id=\"T_1661e_row4_col0\" class=\"data row4 col0\" >0.144397</td>\n      <td id=\"T_1661e_row4_col1\" class=\"data row4 col1\" >-0.130561</td>\n      <td id=\"T_1661e_row4_col2\" class=\"data row4 col2\" >0.305403</td>\n      <td id=\"T_1661e_row4_col3\" class=\"data row4 col3\" >-0.122890</td>\n      <td id=\"T_1661e_row4_col4\" class=\"data row4 col4\" >1.000000</td>\n      <td id=\"T_1661e_row4_col5\" class=\"data row4 col5\" >-0.009640</td>\n      <td id=\"T_1661e_row4_col6\" class=\"data row4 col6\" >0.001063</td>\n      <td id=\"T_1661e_row4_col7\" class=\"data row4 col7\" >-0.354625</td>\n      <td id=\"T_1661e_row4_col8\" class=\"data row4 col8\" >-0.030099</td>\n      <td id=\"T_1661e_row4_col9\" class=\"data row4 col9\" >-0.155349</td>\n      <td id=\"T_1661e_row4_col10\" class=\"data row4 col10\" >0.000347</td>\n      <td id=\"T_1661e_row4_col11\" class=\"data row4 col11\" >-0.070721</td>\n      <td id=\"T_1661e_row4_col12\" class=\"data row4 col12\" >-0.194630</td>\n      <td id=\"T_1661e_row4_col13\" class=\"data row4 col13\" >0.152594</td>\n    </tr>\n    <tr>\n      <th id=\"T_1661e_level0_row5\" class=\"row_heading level0 row5\" >key</th>\n      <td id=\"T_1661e_row5_col0\" class=\"data row5 col0\" >-0.081037</td>\n      <td id=\"T_1661e_row5_col1\" class=\"data row5 col1\" >0.022325</td>\n      <td id=\"T_1661e_row5_col2\" class=\"data row5 col2\" >0.023570</td>\n      <td id=\"T_1661e_row5_col3\" class=\"data row5 col3\" >0.072886</td>\n      <td id=\"T_1661e_row5_col4\" class=\"data row5 col4\" >-0.009640</td>\n      <td id=\"T_1661e_row5_col5\" class=\"data row5 col5\" >1.000000</td>\n      <td id=\"T_1661e_row5_col6\" class=\"data row5 col6\" >0.049739</td>\n      <td id=\"T_1661e_row5_col7\" class=\"data row5 col7\" >0.050929</td>\n      <td id=\"T_1661e_row5_col8\" class=\"data row5 col8\" >-0.195040</td>\n      <td id=\"T_1661e_row5_col9\" class=\"data row5 col9\" >0.019116</td>\n      <td id=\"T_1661e_row5_col10\" class=\"data row5 col10\" >0.040301</td>\n      <td id=\"T_1661e_row5_col11\" class=\"data row5 col11\" >0.024937</td>\n      <td id=\"T_1661e_row5_col12\" class=\"data row5 col12\" >0.032485</td>\n      <td id=\"T_1661e_row5_col13\" class=\"data row5 col13\" >0.033594</td>\n    </tr>\n    <tr>\n      <th id=\"T_1661e_level0_row6\" class=\"row_heading level0 row6\" >liveness</th>\n      <td id=\"T_1661e_row6_col0\" class=\"data row6 col0\" >-0.117126</td>\n      <td id=\"T_1661e_row6_col1\" class=\"data row6 col1\" >-0.132044</td>\n      <td id=\"T_1661e_row6_col2\" class=\"data row6 col2\" >0.023203</td>\n      <td id=\"T_1661e_row6_col3\" class=\"data row6 col3\" >0.217435</td>\n      <td id=\"T_1661e_row6_col4\" class=\"data row6 col4\" >0.001063</td>\n      <td id=\"T_1661e_row6_col5\" class=\"data row6 col5\" >0.049739</td>\n      <td id=\"T_1661e_row6_col6\" class=\"data row6 col6\" >1.000000</td>\n      <td id=\"T_1661e_row6_col7\" class=\"data row6 col7\" >0.156648</td>\n      <td id=\"T_1661e_row6_col8\" class=\"data row6 col8\" >-0.018587</td>\n      <td id=\"T_1661e_row6_col9\" class=\"data row6 col9\" >0.092403</td>\n      <td id=\"T_1661e_row6_col10\" class=\"data row6 col10\" >0.010558</td>\n      <td id=\"T_1661e_row6_col11\" class=\"data row6 col11\" >0.018199</td>\n      <td id=\"T_1661e_row6_col12\" class=\"data row6 col12\" >-0.053011</td>\n      <td id=\"T_1661e_row6_col13\" class=\"data row6 col13\" >0.026364</td>\n    </tr>\n    <tr>\n      <th id=\"T_1661e_level0_row7\" class=\"row_heading level0 row7\" >loudness</th>\n      <td id=\"T_1661e_row7_col0\" class=\"data row7 col0\" >-0.562021</td>\n      <td id=\"T_1661e_row7_col1\" class=\"data row7 col1\" >0.104362</td>\n      <td id=\"T_1661e_row7_col2\" class=\"data row7 col2\" >-0.273798</td>\n      <td id=\"T_1661e_row7_col3\" class=\"data row7 col3\" >0.762177</td>\n      <td id=\"T_1661e_row7_col4\" class=\"data row7 col4\" >-0.354625</td>\n      <td id=\"T_1661e_row7_col5\" class=\"data row7 col5\" >0.050929</td>\n      <td id=\"T_1661e_row7_col6\" class=\"data row7 col6\" >0.156648</td>\n      <td id=\"T_1661e_row7_col7\" class=\"data row7 col7\" >1.000000</td>\n      <td id=\"T_1661e_row7_col8\" class=\"data row7 col8\" >-0.044015</td>\n      <td id=\"T_1661e_row7_col9\" class=\"data row7 col9\" >0.088844</td>\n      <td id=\"T_1661e_row7_col10\" class=\"data row7 col10\" >0.156418</td>\n      <td id=\"T_1661e_row7_col11\" class=\"data row7 col11\" >0.143011</td>\n      <td id=\"T_1661e_row7_col12\" class=\"data row7 col12\" >0.204968</td>\n      <td id=\"T_1661e_row7_col13\" class=\"data row7 col13\" >-0.072000</td>\n    </tr>\n    <tr>\n      <th id=\"T_1661e_level0_row8\" class=\"row_heading level0 row8\" >mode</th>\n      <td id=\"T_1661e_row8_col0\" class=\"data row8 col0\" >0.068028</td>\n      <td id=\"T_1661e_row8_col1\" class=\"data row8 col1\" >-0.047867</td>\n      <td id=\"T_1661e_row8_col2\" class=\"data row8 col2\" >-0.074806</td>\n      <td id=\"T_1661e_row8_col3\" class=\"data row8 col3\" >-0.070263</td>\n      <td id=\"T_1661e_row8_col4\" class=\"data row8 col4\" >-0.030099</td>\n      <td id=\"T_1661e_row8_col5\" class=\"data row8 col5\" >-0.195040</td>\n      <td id=\"T_1661e_row8_col6\" class=\"data row8 col6\" >-0.018587</td>\n      <td id=\"T_1661e_row8_col7\" class=\"data row8 col7\" >-0.044015</td>\n      <td id=\"T_1661e_row8_col8\" class=\"data row8 col8\" >1.000000</td>\n      <td id=\"T_1661e_row8_col9\" class=\"data row8 col9\" >-0.049398</td>\n      <td id=\"T_1661e_row8_col10\" class=\"data row8 col10\" >-0.059995</td>\n      <td id=\"T_1661e_row8_col11\" class=\"data row8 col11\" >-0.039038</td>\n      <td id=\"T_1661e_row8_col12\" class=\"data row8 col12\" >-0.032879</td>\n      <td id=\"T_1661e_row8_col13\" class=\"data row8 col13\" >-0.072336</td>\n    </tr>\n    <tr>\n      <th id=\"T_1661e_level0_row9\" class=\"row_heading level0 row9\" >speechiness</th>\n      <td id=\"T_1661e_row9_col0\" class=\"data row9 col0\" >-0.099893</td>\n      <td id=\"T_1661e_row9_col1\" class=\"data row9 col1\" >0.142661</td>\n      <td id=\"T_1661e_row9_col2\" class=\"data row9 col2\" >-0.079562</td>\n      <td id=\"T_1661e_row9_col3\" class=\"data row9 col3\" >0.093102</td>\n      <td id=\"T_1661e_row9_col4\" class=\"data row9 col4\" >-0.155349</td>\n      <td id=\"T_1661e_row9_col5\" class=\"data row9 col5\" >0.019116</td>\n      <td id=\"T_1661e_row9_col6\" class=\"data row9 col6\" >0.092403</td>\n      <td id=\"T_1661e_row9_col7\" class=\"data row9 col7\" >0.088844</td>\n      <td id=\"T_1661e_row9_col8\" class=\"data row9 col8\" >-0.049398</td>\n      <td id=\"T_1661e_row9_col9\" class=\"data row9 col9\" >1.000000</td>\n      <td id=\"T_1661e_row9_col10\" class=\"data row9 col10\" >0.111359</td>\n      <td id=\"T_1661e_row9_col11\" class=\"data row9 col11\" >0.113529</td>\n      <td id=\"T_1661e_row9_col12\" class=\"data row9 col12\" >0.054419</td>\n      <td id=\"T_1661e_row9_col13\" class=\"data row9 col13\" >0.154006</td>\n    </tr>\n    <tr>\n      <th id=\"T_1661e_level0_row10\" class=\"row_heading level0 row10\" >tempo</th>\n      <td id=\"T_1661e_row10_col0\" class=\"data row10 col0\" >-0.127596</td>\n      <td id=\"T_1661e_row10_col1\" class=\"data row10 col1\" >-0.143538</td>\n      <td id=\"T_1661e_row10_col2\" class=\"data row10 col2\" >-0.076469</td>\n      <td id=\"T_1661e_row10_col3\" class=\"data row10 col3\" >0.165721</td>\n      <td id=\"T_1661e_row10_col4\" class=\"data row10 col4\" >0.000347</td>\n      <td id=\"T_1661e_row10_col5\" class=\"data row10 col5\" >0.040301</td>\n      <td id=\"T_1661e_row10_col6\" class=\"data row10 col6\" >0.010558</td>\n      <td id=\"T_1661e_row10_col7\" class=\"data row10 col7\" >0.156418</td>\n      <td id=\"T_1661e_row10_col8\" class=\"data row10 col8\" >-0.059995</td>\n      <td id=\"T_1661e_row10_col9\" class=\"data row10 col9\" >0.111359</td>\n      <td id=\"T_1661e_row10_col10\" class=\"data row10 col10\" >1.000000</td>\n      <td id=\"T_1661e_row10_col11\" class=\"data row10 col11\" >-0.055918</td>\n      <td id=\"T_1661e_row10_col12\" class=\"data row10 col12\" >-0.014965</td>\n      <td id=\"T_1661e_row10_col13\" class=\"data row10 col13\" >0.034732</td>\n    </tr>\n    <tr>\n      <th id=\"T_1661e_level0_row11\" class=\"row_heading level0 row11\" >time_signature</th>\n      <td id=\"T_1661e_row11_col0\" class=\"data row11 col0\" >-0.190353</td>\n      <td id=\"T_1661e_row11_col1\" class=\"data row11 col1\" >0.128909</td>\n      <td id=\"T_1661e_row11_col2\" class=\"data row11 col2\" >-0.040157</td>\n      <td id=\"T_1661e_row11_col3\" class=\"data row11 col3\" >0.182895</td>\n      <td id=\"T_1661e_row11_col4\" class=\"data row11 col4\" >-0.070721</td>\n      <td id=\"T_1661e_row11_col5\" class=\"data row11 col5\" >0.024937</td>\n      <td id=\"T_1661e_row11_col6\" class=\"data row11 col6\" >0.018199</td>\n      <td id=\"T_1661e_row11_col7\" class=\"data row11 col7\" >0.143011</td>\n      <td id=\"T_1661e_row11_col8\" class=\"data row11 col8\" >-0.039038</td>\n      <td id=\"T_1661e_row11_col9\" class=\"data row11 col9\" >0.113529</td>\n      <td id=\"T_1661e_row11_col10\" class=\"data row11 col10\" >-0.055918</td>\n      <td id=\"T_1661e_row11_col11\" class=\"data row11 col11\" >1.000000</td>\n      <td id=\"T_1661e_row11_col12\" class=\"data row11 col12\" >0.134722</td>\n      <td id=\"T_1661e_row11_col13\" class=\"data row11 col13\" >0.040182</td>\n    </tr>\n    <tr>\n      <th id=\"T_1661e_level0_row12\" class=\"row_heading level0 row12\" >valence</th>\n      <td id=\"T_1661e_row12_col0\" class=\"data row12 col0\" >-0.152227</td>\n      <td id=\"T_1661e_row12_col1\" class=\"data row12 col1\" >0.442061</td>\n      <td id=\"T_1661e_row12_col2\" class=\"data row12 col2\" >-0.120030</td>\n      <td id=\"T_1661e_row12_col3\" class=\"data row12 col3\" >0.278383</td>\n      <td id=\"T_1661e_row12_col4\" class=\"data row12 col4\" >-0.194630</td>\n      <td id=\"T_1661e_row12_col5\" class=\"data row12 col5\" >0.032485</td>\n      <td id=\"T_1661e_row12_col6\" class=\"data row12 col6\" >-0.053011</td>\n      <td id=\"T_1661e_row12_col7\" class=\"data row12 col7\" >0.204968</td>\n      <td id=\"T_1661e_row12_col8\" class=\"data row12 col8\" >-0.032879</td>\n      <td id=\"T_1661e_row12_col9\" class=\"data row12 col9\" >0.054419</td>\n      <td id=\"T_1661e_row12_col10\" class=\"data row12 col10\" >-0.014965</td>\n      <td id=\"T_1661e_row12_col11\" class=\"data row12 col11\" >0.134722</td>\n      <td id=\"T_1661e_row12_col12\" class=\"data row12 col12\" >1.000000</td>\n      <td id=\"T_1661e_row12_col13\" class=\"data row12 col13\" >0.107930</td>\n    </tr>\n    <tr>\n      <th id=\"T_1661e_level0_row13\" class=\"row_heading level0 row13\" >target</th>\n      <td id=\"T_1661e_row13_col0\" class=\"data row13 col0\" >-0.129627</td>\n      <td id=\"T_1661e_row13_col1\" class=\"data row13 col1\" >0.176706</td>\n      <td id=\"T_1661e_row13_col2\" class=\"data row13 col2\" >0.146749</td>\n      <td id=\"T_1661e_row13_col3\" class=\"data row13 col3\" >0.039688</td>\n      <td id=\"T_1661e_row13_col4\" class=\"data row13 col4\" >0.152594</td>\n      <td id=\"T_1661e_row13_col5\" class=\"data row13 col5\" >0.033594</td>\n      <td id=\"T_1661e_row13_col6\" class=\"data row13 col6\" >0.026364</td>\n      <td id=\"T_1661e_row13_col7\" class=\"data row13 col7\" >-0.072000</td>\n      <td id=\"T_1661e_row13_col8\" class=\"data row13 col8\" >-0.072336</td>\n      <td id=\"T_1661e_row13_col9\" class=\"data row13 col9\" >0.154006</td>\n      <td id=\"T_1661e_row13_col10\" class=\"data row13 col10\" >0.034732</td>\n      <td id=\"T_1661e_row13_col11\" class=\"data row13 col11\" >0.040182</td>\n      <td id=\"T_1661e_row13_col12\" class=\"data row13 col12\" >0.107930</td>\n      <td id=\"T_1661e_row13_col13\" class=\"data row13 col13\" >1.000000</td>\n    </tr>\n  </tbody>\n</table>\n"
     },
     "execution_count": 576,
     "metadata": {},
     "output_type": "execute_result"
    }
   ],
   "source": [
    "corr = data_frame.corr()\n",
    "corr.style.background_gradient(cmap='coolwarm')"
   ],
   "metadata": {
    "collapsed": false,
    "pycharm": {
     "name": "#%%\n"
    }
   }
  },
  {
   "cell_type": "markdown",
   "source": [
    "Serão eliminados todos os atributos menos os:\n",
    "* *energy* - classe alvo\n",
    "* *loudness*\n",
    "* *liveness*\n",
    "* *valence*\n",
    "Pois eles possuem correlação positiva com a classe alvo."
   ],
   "metadata": {
    "collapsed": false,
    "pycharm": {
     "name": "#%% md\n"
    }
   }
  },
  {
   "cell_type": "code",
   "execution_count": 577,
   "outputs": [],
   "source": [
    "data_frame.drop(data_frame.columns.difference(['energy','loudness','liveness','valence']), 1, inplace=True)"
   ],
   "metadata": {
    "collapsed": false,
    "pycharm": {
     "name": "#%%\n"
    }
   }
  },
  {
   "cell_type": "markdown",
   "source": [
    "### 3. Escolha 5 valores de K e mostre os resultados (escolha 3 métricas de avaliação e mostre a matriz de confusão) e explique os resultados encontrados."
   ],
   "metadata": {
    "collapsed": false,
    "pycharm": {
     "name": "#%% md\n"
    }
   }
  },
  {
   "cell_type": "code",
   "execution_count": 578,
   "outputs": [
    {
     "name": "stdout",
     "output_type": "stream",
     "text": [
      "\n",
      "K-NN\n",
      "Mean Squared Error:\n",
      " 0.02\n",
      "Mean Absolute Error:\n",
      " 0.12\n",
      "Root Mean Squared Error:\n",
      " 0.15\n"
     ]
    }
   ],
   "source": [
    "import matplotlib.pyplot as plt\n",
    "from sklearn import cluster, neighbors, svm, metrics, preprocessing\n",
    "import numpy as np\n",
    "\n",
    "training_sample = data_frame.sample(frac=0.8, random_state=1)\n",
    "test_sample = pd.concat([data_frame, training_sample]).drop_duplicates(keep=False)\n",
    "\n",
    "training_target = training_sample[\"energy\"]\n",
    "test_target = test_sample[\"energy\"]\n",
    "\n",
    "copy_of_training_sample_with_energy_column = pd.DataFrame(training_sample)\n",
    "\n",
    "del test_sample[\"energy\"]\n",
    "del training_sample[\"energy\"]\n",
    "\n",
    "\n",
    "knn = neighbors.KNeighborsRegressor(n_neighbors=5, algorithm='auto')\n",
    "knn.fit(training_sample,training_target)\n",
    "\n",
    "resultKNN = knn.predict(test_sample)\n",
    "\n",
    "\n",
    "print(\"\\nK-NN\")\n",
    "print(\"Mean Squared Error:\\n %0.2f\" % (metrics.mean_squared_error(test_target, resultKNN, squared=True)))\n",
    "\n",
    "print(\"Mean Absolute Error:\\n {:.2f}\".format(metrics.mean_absolute_error(test_target, resultKNN)))\n",
    "\n",
    "print(\"Root Mean Squared Error:\\n %0.2f\" % (metrics.mean_squared_error(test_target, resultKNN, squared=False)))"
   ],
   "metadata": {
    "collapsed": false,
    "pycharm": {
     "name": "#%%\n"
    }
   }
  },
  {
   "cell_type": "markdown",
   "source": [
    "Na métrica de MSE (Mean Squared Error), por usar Quadrática, quanto maior a diferença entre os valores esperados e o predito, maior seria o valor.\n",
    "Na métrica de MAE (Mean Absolute Error), calcula o erro absoluto entre os valores preditos e os esperados.\n",
    "Por fim, o RMSE (Root Mean Squared Error) que é bom para avaliar a perfomance do modelo.\n",
    "\n",
    "Os resultados exibidos acima para métricas de regressão, os melhores resultados são os menores (ou seja, mais próximos de zero)."
   ],
   "metadata": {
    "collapsed": false,
    "pycharm": {
     "name": "#%% md\n"
    }
   }
  },
  {
   "cell_type": "markdown",
   "source": [
    "### 4 - Escolha 2 métricas de similaridade (diferentes distâncias ou outras métricas - correlação, por exemplo) para definir o(s) vizinho(s) mais próximos e explique os resultados encontrados.\n",
    "\n",
    "#### Correlação de Pearson\n",
    "\n",
    "O método de correlação de Pearson diz o quanto os 2 itens estão correlacionados.\n",
    "Se o valor obtido for mais próximo de 1, significa que os itens são correlacionados positivamente.\n",
    "E caso for mais próximo de -1, a correlação é negativa.\n"
   ],
   "metadata": {
    "collapsed": false,
    "pycharm": {
     "name": "#%% md\n"
    }
   }
  },
  {
   "cell_type": "code",
   "execution_count": 579,
   "outputs": [
    {
     "data": {
      "text/plain": "array([[1.        , 0.72990781],\n       [0.72990781, 1.        ]])"
     },
     "execution_count": 579,
     "metadata": {},
     "output_type": "execute_result"
    }
   ],
   "source": [
    "np.corrcoef(x= test_target, y=resultKNN)"
   ],
   "metadata": {
    "collapsed": false,
    "pycharm": {
     "name": "#%%\n"
    }
   }
  },
  {
   "cell_type": "markdown",
   "source": [
    "#### Distância Euclidiana"
   ],
   "metadata": {
    "collapsed": false,
    "pycharm": {
     "name": "#%% md\n"
    }
   }
  },
  {
   "cell_type": "code",
   "execution_count": 580,
   "outputs": [
    {
     "data": {
      "text/plain": "[<matplotlib.lines.Line2D at 0x1fab82a1ac0>]"
     },
     "execution_count": 580,
     "metadata": {},
     "output_type": "execute_result"
    },
    {
     "data": {
      "text/plain": "<Figure size 432x288 with 1 Axes>",
      "image/png": "[encoded data removed]"
     },
     "metadata": {
      "needs_background": "light"
     },
     "output_type": "display_data"
    }
   ],
   "source": [
    "from scipy.spatial import distance\n",
    "dst = []\n",
    "test_target = pd.DataFrame(test_target.reset_index()['energy'])\n",
    "\n",
    "\n",
    "for i in test_target.index:\n",
    "    dst.append(distance.euclidean(test_target['energy'][i], resultKNN.item(i)))\n",
    "\n",
    "plt.plot(dst)"
   ],
   "metadata": {
    "collapsed": false,
    "pycharm": {
     "name": "#%%\n"
    }
   }
  },
  {
   "cell_type": "markdown",
   "source": [
    "Por conta da distância euclidiana não ter sido dado nenhum valor acima de 1, logo o melhor K vizinho seria o proposto (K = 5)"
   ],
   "metadata": {
    "collapsed": false,
    "pycharm": {
     "name": "#%% md\n"
    }
   }
  },
  {
   "cell_type": "markdown",
   "source": [
    "### 5 - Melhor K e melhor distância e testar com o conjunto de atributos do item 2.\n",
    "\n",
    "Como dito na questão anterior, o melhor K é o 5 pois na distância euclidiana não foi encontrado nenhum valor maior que 1 para que possibilitasse um outro valor para K.\n",
    "Já a melhor distância:"
   ],
   "metadata": {
    "collapsed": false,
    "pycharm": {
     "name": "#%% md\n"
    }
   }
  },
  {
   "cell_type": "code",
   "execution_count": 581,
   "outputs": [
    {
     "name": "stdout",
     "output_type": "stream",
     "text": [
      "Least distance:  [0.00040000000000006697]\n",
      "\n",
      "K-NN\n",
      "Mean Squared Error:\n",
      " 0.06\n"
     ]
    }
   ],
   "source": [
    "least_distance = [1.0]\n",
    "for i in test_target.index:\n",
    "    if dst[i] < least_distance[0]:\n",
    "        least_distance.clear()\n",
    "        least_distance.append(dst[i])\n",
    "\n",
    "print('Least distance: ', least_distance)\n",
    "\n",
    "data_frame = pd.read_csv(\"../db/data.csv\")\n",
    "data_frame = data_frame.drop(\"Unnamed: 0\", axis=\"columns\")\n",
    "\n",
    "data_frame.drop(columns=['song_title','artist', 'duration_ms', 'speechiness', 'tempo', 'time_signature', 'target', 'key', 'mode'])\n",
    "\n",
    "training_sample = data_frame.sample(frac=0.8, random_state=1)\n",
    "test_sample = pd.concat([data_frame, training_sample]).drop_duplicates(keep=False)\n",
    "\n",
    "training_target = training_sample[\"energy\"]\n",
    "test_target = test_sample[\"energy\"]\n",
    "\n",
    "del test_sample[\"energy\"]\n",
    "del training_sample[\"energy\"]\n",
    "del training_sample['artist']\n",
    "del training_sample['song_title']\n",
    "del test_sample['artist']\n",
    "del test_sample['song_title']\n",
    "\n",
    "\n",
    "\n",
    "knn = neighbors.KNeighborsRegressor(n_neighbors=5, algorithm='auto')\n",
    "knn.fit(training_sample,training_target)\n",
    "\n",
    "resultKNN = knn.predict(test_sample)\n",
    "\n",
    "\n",
    "print(\"\\nK-NN\")\n",
    "print(\"Mean Squared Error:\\n %0.2f\" % (metrics.mean_squared_error(test_target, resultKNN, squared=True)))"
   ],
   "metadata": {
    "collapsed": false,
    "pycharm": {
     "name": "#%%\n"
    }
   }
  }
 ],
 "metadata": {
  "kernelspec": {
   "display_name": "Python 3",
   "language": "python",
   "name": "python3"
  },
  "language_info": {
   "codemirror_mode": {
    "name": "ipython",
    "version": 2
   },
   "file_extension": ".py",
   "mimetype": "text/x-python",
   "name": "python",
   "nbconvert_exporter": "python",
   "pygments_lexer": "ipython2",
   "version": "2.7.6"
  }
 },
 "nbformat": 4,
 "nbformat_minor": 0
}